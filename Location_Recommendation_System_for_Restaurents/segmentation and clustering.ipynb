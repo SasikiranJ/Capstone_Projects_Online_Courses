{
  "nbformat": 4,
  "nbformat_minor": 0,
  "metadata": {
    "colab": {
      "name": "Copy of Copy of Untitled2.ipynb",
      "version": "0.3.2",
      "provenance": [],
      "collapsed_sections": [],
      "include_colab_link": true
    },
    "kernelspec": {
      "name": "python3",
      "display_name": "Python 3"
    }
  },
  "cells": [
    {
      "cell_type": "markdown",
      "metadata": {
        "id": "view-in-github",
        "colab_type": "text"
      },
      "source": [
        "<a href=\"https://colab.research.google.com/github/SasikiranJ/Coursera_Capstone/blob/master/segmentation%20and%20clustering.ipynb\" target=\"_parent\"><img src=\"https://colab.research.google.com/assets/colab-badge.svg\" alt=\"Open In Colab\"/></a>"
      ]
    },
    {
      "cell_type": "markdown",
      "metadata": {
        "id": "aL2THEieYW_h",
        "colab_type": "text"
      },
      "source": [
        "#Part:1  Importing Libraries"
      ]
    },
    {
      "cell_type": "code",
      "metadata": {
        "id": "7Fb39pVP8-Qe",
        "colab_type": "code",
        "outputId": "9ae72264-1148-47c3-aaa4-54e6811c42f8",
        "colab": {
          "base_uri": "https://localhost:8080/",
          "height": 34
        }
      },
      "source": [
        "from pandas import DataFrame\n",
        "\n",
        "import numpy as np # library to handle data in a vectorized manner\n",
        "\n",
        "import pandas as pd # library for data analsysis\n",
        "pd.set_option('display.max_columns', None)\n",
        "pd.set_option('display.max_rows', None)\n",
        "\n",
        "import json # library to handle JSON files\n",
        "\n",
        "#!conda install -c conda-forge geopy --yes # uncomment this line if you haven't completed the Foursquare API lab\n",
        "from geopy.geocoders import Nominatim # convert an address into latitude and longitude values\n",
        "\n",
        "import requests # library to handle requests\n",
        "from pandas.io.json import json_normalize # tranform JSON file into a pandas dataframe\n",
        "\n",
        "# Matplotlib and associated plotting modules\n",
        "import matplotlib.cm as cm\n",
        "import matplotlib.colors as colors\n",
        "\n",
        "# import k-means from clustering stage\n",
        "from sklearn.cluster import KMeans\n",
        "\n",
        "#!conda install -c conda-forge folium=0.5.0 --yes # uncomment this line if you haven't completed the Foursquare API lab\n",
        "import folium # map rendering library\n",
        "\n",
        "print('Libraries imported.')\n"
      ],
      "execution_count": 0,
      "outputs": [
        {
          "output_type": "stream",
          "text": [
            "Libraries imported.\n"
          ],
          "name": "stdout"
        }
      ]
    },
    {
      "cell_type": "markdown",
      "metadata": {
        "id": "vW1-HcEJYiIS",
        "colab_type": "text"
      },
      "source": [
        "# Using pandas built-in function to get table data frim wikipedia"
      ]
    },
    {
      "cell_type": "code",
      "metadata": {
        "id": "U4s9FPGOBcxV",
        "colab_type": "code",
        "colab": {}
      },
      "source": [
        "data = pd.read_html('https://en.wikipedia.org/wiki/List_of_postal_codes_of_Canada:_M')[0]\n",
        "\n",
        "# To convert each extracted data into list of lists\n",
        "df = data.values.tolist()\n"
      ],
      "execution_count": 0,
      "outputs": []
    },
    {
      "cell_type": "markdown",
      "metadata": {
        "id": "Akc6-qcIY_Px",
        "colab_type": "text"
      },
      "source": [
        "# To delete unnecessary rows and fill in some values"
      ]
    },
    {
      "cell_type": "code",
      "metadata": {
        "id": "dia4fysMBncR",
        "colab_type": "code",
        "colab": {}
      },
      "source": [
        "# Using function to convert list of lists obtained above to dataframe\n",
        "df = DataFrame.from_records(data)\n",
        "\n",
        "#To put columns\n",
        "df.columns = ['PostalCode','Borough','Neighbourhood']"
      ],
      "execution_count": 0,
      "outputs": []
    },
    {
      "cell_type": "code",
      "metadata": {
        "id": "TpOHtr53Di9R",
        "colab_type": "code",
        "colab": {}
      },
      "source": [
        "#To extract only rows with Borough values not equal to Not assigned as per condition\n",
        "df_orig = df[df['Borough'] != 'Not assigned']"
      ],
      "execution_count": 0,
      "outputs": []
    },
    {
      "cell_type": "code",
      "metadata": {
        "id": "e5UWLR1uaXZm",
        "colab_type": "code",
        "colab": {}
      },
      "source": [
        "# Joining rows with same postal codes\n",
        "dup = df_orig.groupby(['PostalCode','Borough'])['Neighbourhood'].apply(', '.join).reset_index()"
      ],
      "execution_count": 0,
      "outputs": []
    },
    {
      "cell_type": "code",
      "metadata": {
        "id": "s4QxtKkyaZau",
        "colab_type": "code",
        "colab": {}
      },
      "source": [
        "# If Borough value present and Neighbourhood not present we have to replace Neighbourhood value with Borough value\n",
        "\n",
        "mask = list((dup[\"Neighbourhood\"] == \"Not assigned\"))\n",
        "\n",
        "dup.iloc[mask.index(True),2]  = dup.iloc[mask.index(True),1]"
      ],
      "execution_count": 0,
      "outputs": []
    },
    {
      "cell_type": "code",
      "metadata": {
        "id": "SQOXR8pYacfC",
        "colab_type": "code",
        "outputId": "210361c3-af51-42db-dad2-a4e99057a2c5",
        "colab": {
          "base_uri": "https://localhost:8080/",
          "height": 34
        }
      },
      "source": [
        "# To print dimensions of cleaned dataframe  \n",
        "print(dup.shape)"
      ],
      "execution_count": 0,
      "outputs": [
        {
          "output_type": "stream",
          "text": [
            "(103, 3)\n"
          ],
          "name": "stdout"
        }
      ]
    },
    {
      "cell_type": "code",
      "metadata": {
        "id": "Mp1ZuYH2W8H3",
        "colab_type": "code",
        "colab": {}
      },
      "source": [
        "dup"
      ],
      "execution_count": 0,
      "outputs": []
    },
    {
      "cell_type": "markdown",
      "metadata": {
        "id": "WjaS9TA1XLJN",
        "colab_type": "text"
      },
      "source": [
        "# Part:2 merging latitude and longitudinal values to dataset"
      ]
    },
    {
      "cell_type": "markdown",
      "metadata": {
        "id": "-erfvwyhXJl1",
        "colab_type": "text"
      },
      "source": [
        ""
      ]
    },
    {
      "cell_type": "code",
      "metadata": {
        "id": "BGGxAlcjalm9",
        "colab_type": "code",
        "colab": {}
      },
      "source": [
        "!wget https://cocl.us/Geospatial_data"
      ],
      "execution_count": 0,
      "outputs": []
    },
    {
      "cell_type": "code",
      "metadata": {
        "id": "2tZWxoqEMnfa",
        "colab_type": "code",
        "colab": {}
      },
      "source": [
        "lat_long = pd.read_csv(\"Geospatial_data\")"
      ],
      "execution_count": 0,
      "outputs": []
    },
    {
      "cell_type": "code",
      "metadata": {
        "id": "_CcgkHCrM51P",
        "colab_type": "code",
        "outputId": "0b5c22e2-47a0-4ff0-a886-382fc501625e",
        "colab": {
          "base_uri": "https://localhost:8080/",
          "height": 363
        }
      },
      "source": [
        "lat_long.columns = [\"PostalCode\",\"Latitude\",\"Longitude\"]\n",
        "lat_long.head(10)"
      ],
      "execution_count": 0,
      "outputs": [
        {
          "output_type": "execute_result",
          "data": {
            "text/html": [
              "<div>\n",
              "<style scoped>\n",
              "    .dataframe tbody tr th:only-of-type {\n",
              "        vertical-align: middle;\n",
              "    }\n",
              "\n",
              "    .dataframe tbody tr th {\n",
              "        vertical-align: top;\n",
              "    }\n",
              "\n",
              "    .dataframe thead th {\n",
              "        text-align: right;\n",
              "    }\n",
              "</style>\n",
              "<table border=\"1\" class=\"dataframe\">\n",
              "  <thead>\n",
              "    <tr style=\"text-align: right;\">\n",
              "      <th></th>\n",
              "      <th>PostalCode</th>\n",
              "      <th>Latitude</th>\n",
              "      <th>Longitude</th>\n",
              "    </tr>\n",
              "  </thead>\n",
              "  <tbody>\n",
              "    <tr>\n",
              "      <th>0</th>\n",
              "      <td>M1B</td>\n",
              "      <td>43.806686</td>\n",
              "      <td>-79.194353</td>\n",
              "    </tr>\n",
              "    <tr>\n",
              "      <th>1</th>\n",
              "      <td>M1C</td>\n",
              "      <td>43.784535</td>\n",
              "      <td>-79.160497</td>\n",
              "    </tr>\n",
              "    <tr>\n",
              "      <th>2</th>\n",
              "      <td>M1E</td>\n",
              "      <td>43.763573</td>\n",
              "      <td>-79.188711</td>\n",
              "    </tr>\n",
              "    <tr>\n",
              "      <th>3</th>\n",
              "      <td>M1G</td>\n",
              "      <td>43.770992</td>\n",
              "      <td>-79.216917</td>\n",
              "    </tr>\n",
              "    <tr>\n",
              "      <th>4</th>\n",
              "      <td>M1H</td>\n",
              "      <td>43.773136</td>\n",
              "      <td>-79.239476</td>\n",
              "    </tr>\n",
              "    <tr>\n",
              "      <th>5</th>\n",
              "      <td>M1J</td>\n",
              "      <td>43.744734</td>\n",
              "      <td>-79.239476</td>\n",
              "    </tr>\n",
              "    <tr>\n",
              "      <th>6</th>\n",
              "      <td>M1K</td>\n",
              "      <td>43.727929</td>\n",
              "      <td>-79.262029</td>\n",
              "    </tr>\n",
              "    <tr>\n",
              "      <th>7</th>\n",
              "      <td>M1L</td>\n",
              "      <td>43.711112</td>\n",
              "      <td>-79.284577</td>\n",
              "    </tr>\n",
              "    <tr>\n",
              "      <th>8</th>\n",
              "      <td>M1M</td>\n",
              "      <td>43.716316</td>\n",
              "      <td>-79.239476</td>\n",
              "    </tr>\n",
              "    <tr>\n",
              "      <th>9</th>\n",
              "      <td>M1N</td>\n",
              "      <td>43.692657</td>\n",
              "      <td>-79.264848</td>\n",
              "    </tr>\n",
              "  </tbody>\n",
              "</table>\n",
              "</div>"
            ],
            "text/plain": [
              "  PostalCode   Latitude  Longitude\n",
              "0        M1B  43.806686 -79.194353\n",
              "1        M1C  43.784535 -79.160497\n",
              "2        M1E  43.763573 -79.188711\n",
              "3        M1G  43.770992 -79.216917\n",
              "4        M1H  43.773136 -79.239476\n",
              "5        M1J  43.744734 -79.239476\n",
              "6        M1K  43.727929 -79.262029\n",
              "7        M1L  43.711112 -79.284577\n",
              "8        M1M  43.716316 -79.239476\n",
              "9        M1N  43.692657 -79.264848"
            ]
          },
          "metadata": {
            "tags": []
          },
          "execution_count": 50
        }
      ]
    },
    {
      "cell_type": "code",
      "metadata": {
        "id": "c6iL8ENzNX5X",
        "colab_type": "code",
        "outputId": "69b759a1-860e-4811-8cac-eb87014cc502",
        "colab": {
          "base_uri": "https://localhost:8080/",
          "height": 34
        }
      },
      "source": [
        "dup1 = dup\n",
        "\n",
        "dfinal = dup1.merge(lat_long, on=\"PostalCode\", how = 'inner')\n",
        "\n",
        "dfinal.shape"
      ],
      "execution_count": 0,
      "outputs": [
        {
          "output_type": "execute_result",
          "data": {
            "text/plain": [
              "(103, 5)"
            ]
          },
          "metadata": {
            "tags": []
          },
          "execution_count": 51
        }
      ]
    },
    {
      "cell_type": "code",
      "metadata": {
        "id": "rEjHULTWXeH9",
        "colab_type": "code",
        "colab": {}
      },
      "source": [
        "\n"
      ],
      "execution_count": 0,
      "outputs": []
    },
    {
      "cell_type": "markdown",
      "metadata": {
        "id": "-jPowYW0XTdt",
        "colab_type": "text"
      },
      "source": [
        "# Part:3 Analysing data and clustering them with k-means"
      ]
    },
    {
      "cell_type": "markdown",
      "metadata": {
        "id": "4S-XD8FguKDg",
        "colab_type": "text"
      },
      "source": [
        "# Taking only Boroughs with Toronto"
      ]
    },
    {
      "cell_type": "code",
      "metadata": {
        "id": "ugZpNAuZWRvH",
        "colab_type": "code",
        "outputId": "2e700610-3372-41bb-e135-2326dc645c21",
        "colab": {
          "base_uri": "https://localhost:8080/",
          "height": 206
        }
      },
      "source": [
        "\n",
        "TorontoData = dfinal.loc[dfinal[\"Borough\"].str.contains(\"Toronto\")].reset_index(drop=True)\n",
        "\n",
        "TorontoData.columns = [\"PostalCode\",\"Borough\",\"Neighborhood\",\"Latitude\",\"Longitude\"]\n",
        "\n",
        "TorontoData.head()"
      ],
      "execution_count": 0,
      "outputs": [
        {
          "output_type": "execute_result",
          "data": {
            "text/html": [
              "<div>\n",
              "<style scoped>\n",
              "    .dataframe tbody tr th:only-of-type {\n",
              "        vertical-align: middle;\n",
              "    }\n",
              "\n",
              "    .dataframe tbody tr th {\n",
              "        vertical-align: top;\n",
              "    }\n",
              "\n",
              "    .dataframe thead th {\n",
              "        text-align: right;\n",
              "    }\n",
              "</style>\n",
              "<table border=\"1\" class=\"dataframe\">\n",
              "  <thead>\n",
              "    <tr style=\"text-align: right;\">\n",
              "      <th></th>\n",
              "      <th>PostalCode</th>\n",
              "      <th>Borough</th>\n",
              "      <th>Neighborhood</th>\n",
              "      <th>Latitude</th>\n",
              "      <th>Longitude</th>\n",
              "    </tr>\n",
              "  </thead>\n",
              "  <tbody>\n",
              "    <tr>\n",
              "      <th>0</th>\n",
              "      <td>M4E</td>\n",
              "      <td>East Toronto</td>\n",
              "      <td>The Beaches</td>\n",
              "      <td>43.676357</td>\n",
              "      <td>-79.293031</td>\n",
              "    </tr>\n",
              "    <tr>\n",
              "      <th>1</th>\n",
              "      <td>M4K</td>\n",
              "      <td>East Toronto</td>\n",
              "      <td>The Danforth West, Riverdale</td>\n",
              "      <td>43.679557</td>\n",
              "      <td>-79.352188</td>\n",
              "    </tr>\n",
              "    <tr>\n",
              "      <th>2</th>\n",
              "      <td>M4L</td>\n",
              "      <td>East Toronto</td>\n",
              "      <td>The Beaches West, India Bazaar</td>\n",
              "      <td>43.668999</td>\n",
              "      <td>-79.315572</td>\n",
              "    </tr>\n",
              "    <tr>\n",
              "      <th>3</th>\n",
              "      <td>M4M</td>\n",
              "      <td>East Toronto</td>\n",
              "      <td>Studio District</td>\n",
              "      <td>43.659526</td>\n",
              "      <td>-79.340923</td>\n",
              "    </tr>\n",
              "    <tr>\n",
              "      <th>4</th>\n",
              "      <td>M4N</td>\n",
              "      <td>Central Toronto</td>\n",
              "      <td>Lawrence Park</td>\n",
              "      <td>43.728020</td>\n",
              "      <td>-79.388790</td>\n",
              "    </tr>\n",
              "  </tbody>\n",
              "</table>\n",
              "</div>"
            ],
            "text/plain": [
              "  PostalCode          Borough                    Neighborhood   Latitude  \\\n",
              "0        M4E     East Toronto                     The Beaches  43.676357   \n",
              "1        M4K     East Toronto    The Danforth West, Riverdale  43.679557   \n",
              "2        M4L     East Toronto  The Beaches West, India Bazaar  43.668999   \n",
              "3        M4M     East Toronto                 Studio District  43.659526   \n",
              "4        M4N  Central Toronto                   Lawrence Park  43.728020   \n",
              "\n",
              "   Longitude  \n",
              "0 -79.293031  \n",
              "1 -79.352188  \n",
              "2 -79.315572  \n",
              "3 -79.340923  \n",
              "4 -79.388790  "
            ]
          },
          "metadata": {
            "tags": []
          },
          "execution_count": 52
        }
      ]
    },
    {
      "cell_type": "markdown",
      "metadata": {
        "id": "JJBuZFNxuWp7",
        "colab_type": "text"
      },
      "source": [
        "# Getting coordinates for Toronto"
      ]
    },
    {
      "cell_type": "code",
      "metadata": {
        "id": "0zaBCUMObehO",
        "colab_type": "code",
        "outputId": "804deadd-2758-4ec0-b565-dffc3d21c12b",
        "colab": {
          "base_uri": "https://localhost:8080/",
          "height": 34
        }
      },
      "source": [
        "address = 'Toronto, Ontario'\n",
        "\n",
        "geolocator = Nominatim(user_agent=\"ny_explorer\")\n",
        "location = geolocator.geocode(address)\n",
        "latitude = location.latitude\n",
        "longitude = location.longitude\n",
        "print('The geograpical coordinate of Manhattan are {}, {}.'.format(latitude, longitude))"
      ],
      "execution_count": 0,
      "outputs": [
        {
          "output_type": "stream",
          "text": [
            "The geograpical coordinate of Manhattan are 43.653963, -79.387207.\n"
          ],
          "name": "stdout"
        }
      ]
    },
    {
      "cell_type": "code",
      "metadata": {
        "id": "XFd9mIVAc9_s",
        "colab_type": "code",
        "colab": {}
      },
      "source": [
        "# create map of Manhattan using latitude and longitude values\n",
        "map_Toronto = folium.Map(location=[latitude, longitude], zoom_start=11)\n",
        "\n",
        "# add markers to map\n",
        "for lat, lng, label in zip(TorontoData['Latitude'], TorontoData['Longitude'], TorontoData['Neighborhood']):\n",
        "    label = folium.Popup(label, parse_html=True)\n",
        "    folium.CircleMarker(\n",
        "        [lat, lng],\n",
        "        radius=5,\n",
        "        popup=label,\n",
        "        color='blue',\n",
        "        fill=True,\n",
        "        fill_color='#3186cc',\n",
        "        fill_opacity=0.7,\n",
        "        parse_html=False).add_to(map_Toronto)  \n",
        "    \n",
        "map_Toronto"
      ],
      "execution_count": 0,
      "outputs": []
    },
    {
      "cell_type": "markdown",
      "metadata": {
        "id": "Z889P3BPueuR",
        "colab_type": "text"
      },
      "source": [
        "# Giving credentials to Authenticate with FourSquare"
      ]
    },
    {
      "cell_type": "code",
      "metadata": {
        "id": "5P8OM2ZddfJ9",
        "colab_type": "code",
        "outputId": "38c3374c-aafe-4c94-ab44-05ea0236645e",
        "colab": {
          "base_uri": "https://localhost:8080/",
          "height": 69
        }
      },
      "source": [
        "CLIENT_ID = 'FZX50I1NPLWBHJAIONNWRLS0LJDTCOMYPGCBIZDDKFHYN40T' # your Foursquare ID\n",
        "CLIENT_SECRET = 'O4KI11NOHQYINMB2W3G1YPVXGHD341PNVOD3H1YAKWAJP2D2' # your Foursquare Secret\n",
        "VERSION = '20180605' # Foursquare API version\n",
        "\n",
        "print('Your credentails:')\n",
        "print('CLIENT_ID: ' + CLIENT_ID)\n",
        "print('CLIENT_SECRET:' + CLIENT_SECRET)"
      ],
      "execution_count": 0,
      "outputs": [
        {
          "output_type": "stream",
          "text": [
            "Your credentails:\n",
            "CLIENT_ID: FZX50I1NPLWBHJAIONNWRLS0LJDTCOMYPGCBIZDDKFHYN40T\n",
            "CLIENT_SECRET:O4KI11NOHQYINMB2W3G1YPVXGHD341PNVOD3H1YAKWAJP2D2\n"
          ],
          "name": "stdout"
        }
      ]
    },
    {
      "cell_type": "code",
      "metadata": {
        "id": "0OBavyFleF3m",
        "colab_type": "code",
        "outputId": "ad0a9d93-2c62-4f6a-d16e-a095c67dd658",
        "colab": {
          "base_uri": "https://localhost:8080/",
          "height": 34
        }
      },
      "source": [
        "TorontoData.loc[0, 'Neighborhood']"
      ],
      "execution_count": 0,
      "outputs": [
        {
          "output_type": "execute_result",
          "data": {
            "text/plain": [
              "'The Beaches'"
            ]
          },
          "metadata": {
            "tags": []
          },
          "execution_count": 56
        }
      ]
    },
    {
      "cell_type": "code",
      "metadata": {
        "id": "2G_hzWEffIP4",
        "colab_type": "code",
        "outputId": "81070cbb-ddad-4821-8ec5-5e5693a79d33",
        "colab": {
          "base_uri": "https://localhost:8080/",
          "height": 34
        }
      },
      "source": [
        "neighborhood_latitude = TorontoData.loc[0, 'Latitude'] # neighborhood latitude value\n",
        "neighborhood_longitude = TorontoData.loc[0, 'Longitude'] # neighborhood longitude value\n",
        "\n",
        "neighborhood_name = TorontoData.loc[0, 'Neighborhood'] # neighborhood name\n",
        "\n",
        "print('Latitude and longitude values of {} are {}, {}.'.format(neighborhood_name, \n",
        "                                                               neighborhood_latitude, \n",
        "                                                               neighborhood_longitude))"
      ],
      "execution_count": 0,
      "outputs": [
        {
          "output_type": "stream",
          "text": [
            "Latitude and longitude values of The Beaches are 43.67635739999999, -79.2930312.\n"
          ],
          "name": "stdout"
        }
      ]
    },
    {
      "cell_type": "code",
      "metadata": {
        "id": "YdWslTXJfcYH",
        "colab_type": "code",
        "outputId": "f97936cc-7a23-4812-e710-b351fa349e33",
        "colab": {
          "base_uri": "https://localhost:8080/",
          "height": 54
        }
      },
      "source": [
        "LIMIT = 100 # limit of number of venues returned by Foursquare API\n",
        "radius = 500 # define radius\n",
        "\n",
        "# create URL\n",
        "url = 'https://api.foursquare.com/v2/venues/explore?&client_id={}&client_secret={}&v={}&ll={},{}&radius={}&limit={}'.format(\n",
        "    CLIENT_ID, \n",
        "    CLIENT_SECRET, \n",
        "    VERSION, \n",
        "    neighborhood_latitude, \n",
        "    neighborhood_longitude, \n",
        "    radius, \n",
        "    LIMIT)\n",
        "url # display URL"
      ],
      "execution_count": 0,
      "outputs": [
        {
          "output_type": "execute_result",
          "data": {
            "text/plain": [
              "'https://api.foursquare.com/v2/venues/explore?&client_id=FZX50I1NPLWBHJAIONNWRLS0LJDTCOMYPGCBIZDDKFHYN40T&client_secret=O4KI11NOHQYINMB2W3G1YPVXGHD341PNVOD3H1YAKWAJP2D2&v=20180605&ll=43.67635739999999,-79.2930312&radius=500&limit=100'"
            ]
          },
          "metadata": {
            "tags": []
          },
          "execution_count": 58
        }
      ]
    },
    {
      "cell_type": "code",
      "metadata": {
        "id": "McZIFpHofnhw",
        "colab_type": "code",
        "colab": {}
      },
      "source": [
        "results = requests.get(url).json()\n",
        "results"
      ],
      "execution_count": 0,
      "outputs": []
    },
    {
      "cell_type": "code",
      "metadata": {
        "id": "4tYWQSL8fuhn",
        "colab_type": "code",
        "colab": {}
      },
      "source": [
        "def get_category_type(row):\n",
        "    try:\n",
        "        categories_list = row['categories']\n",
        "    except:\n",
        "        categories_list = row['venue.categories']\n",
        "        \n",
        "    if len(categories_list) == 0:\n",
        "        return None\n",
        "    else:\n",
        "        return categories_list[0]['name']"
      ],
      "execution_count": 0,
      "outputs": []
    },
    {
      "cell_type": "code",
      "metadata": {
        "id": "GjipzlGGf80g",
        "colab_type": "code",
        "outputId": "451953ce-7c89-4928-b58d-f11bdd58e4be",
        "colab": {
          "base_uri": "https://localhost:8080/",
          "height": 175
        }
      },
      "source": [
        "venues = results['response']['groups'][0]['items']\n",
        "    \n",
        "nearby_venues = json_normalize(venues) # flatten JSON\n",
        "\n",
        "# filter columns\n",
        "filtered_columns = ['venue.name', 'venue.categories', 'venue.location.lat', 'venue.location.lng']\n",
        "nearby_venues =nearby_venues.loc[:, filtered_columns]\n",
        "\n",
        "# filter the category for each row\n",
        "nearby_venues['venue.categories'] = nearby_venues.apply(get_category_type, axis=1)\n",
        "\n",
        "# clean columns\n",
        "nearby_venues.columns = [col.split(\".\")[-1] for col in nearby_venues.columns]\n",
        "\n",
        "nearby_venues.head()"
      ],
      "execution_count": 0,
      "outputs": [
        {
          "output_type": "execute_result",
          "data": {
            "text/html": [
              "<div>\n",
              "<style scoped>\n",
              "    .dataframe tbody tr th:only-of-type {\n",
              "        vertical-align: middle;\n",
              "    }\n",
              "\n",
              "    .dataframe tbody tr th {\n",
              "        vertical-align: top;\n",
              "    }\n",
              "\n",
              "    .dataframe thead th {\n",
              "        text-align: right;\n",
              "    }\n",
              "</style>\n",
              "<table border=\"1\" class=\"dataframe\">\n",
              "  <thead>\n",
              "    <tr style=\"text-align: right;\">\n",
              "      <th></th>\n",
              "      <th>name</th>\n",
              "      <th>categories</th>\n",
              "      <th>lat</th>\n",
              "      <th>lng</th>\n",
              "    </tr>\n",
              "  </thead>\n",
              "  <tbody>\n",
              "    <tr>\n",
              "      <th>0</th>\n",
              "      <td>Glen Manor Ravine</td>\n",
              "      <td>Trail</td>\n",
              "      <td>43.676821</td>\n",
              "      <td>-79.293942</td>\n",
              "    </tr>\n",
              "    <tr>\n",
              "      <th>1</th>\n",
              "      <td>The Big Carrot Natural Food Market</td>\n",
              "      <td>Health Food Store</td>\n",
              "      <td>43.678879</td>\n",
              "      <td>-79.297734</td>\n",
              "    </tr>\n",
              "    <tr>\n",
              "      <th>2</th>\n",
              "      <td>Grover Pub and Grub</td>\n",
              "      <td>Pub</td>\n",
              "      <td>43.679181</td>\n",
              "      <td>-79.297215</td>\n",
              "    </tr>\n",
              "    <tr>\n",
              "      <th>3</th>\n",
              "      <td>Upper Beaches</td>\n",
              "      <td>Neighborhood</td>\n",
              "      <td>43.680563</td>\n",
              "      <td>-79.292869</td>\n",
              "    </tr>\n",
              "  </tbody>\n",
              "</table>\n",
              "</div>"
            ],
            "text/plain": [
              "                                 name         categories        lat        lng\n",
              "0                   Glen Manor Ravine              Trail  43.676821 -79.293942\n",
              "1  The Big Carrot Natural Food Market  Health Food Store  43.678879 -79.297734\n",
              "2                 Grover Pub and Grub                Pub  43.679181 -79.297215\n",
              "3                       Upper Beaches       Neighborhood  43.680563 -79.292869"
            ]
          },
          "metadata": {
            "tags": []
          },
          "execution_count": 61
        }
      ]
    },
    {
      "cell_type": "code",
      "metadata": {
        "id": "RrKFWiscgIUF",
        "colab_type": "code",
        "outputId": "930aad6d-5bd3-452a-cb7e-c9eeb5389172",
        "colab": {
          "base_uri": "https://localhost:8080/",
          "height": 34
        }
      },
      "source": [
        "print('{} venues were returned by Foursquare.'.format(nearby_venues.shape[0]))"
      ],
      "execution_count": 0,
      "outputs": [
        {
          "output_type": "stream",
          "text": [
            "4 venues were returned by Foursquare.\n"
          ],
          "name": "stdout"
        }
      ]
    },
    {
      "cell_type": "markdown",
      "metadata": {
        "id": "nPnc_b7ruo3P",
        "colab_type": "text"
      },
      "source": [
        "# Acquiring venues for each and every neighbourhood"
      ]
    },
    {
      "cell_type": "code",
      "metadata": {
        "id": "ocDR9uS-gNQ_",
        "colab_type": "code",
        "colab": {}
      },
      "source": [
        "def getNearbyVenues(names, latitudes, longitudes, radius=500):\n",
        "    \n",
        "    venues_list=[]\n",
        "    for name, lat, lng in zip(names, latitudes, longitudes):\n",
        "        print(name)\n",
        "            \n",
        "        # create the API request URL\n",
        "        url = 'https://api.foursquare.com/v2/venues/explore?&client_id={}&client_secret={}&v={}&ll={},{}&radius={}&limit={}'.format(\n",
        "            CLIENT_ID, \n",
        "            CLIENT_SECRET, \n",
        "            VERSION, \n",
        "            lat, \n",
        "            lng, \n",
        "            radius, \n",
        "            LIMIT)\n",
        "            \n",
        "        # make the GET request\n",
        "        results = requests.get(url).json()[\"response\"]['groups'][0]['items']\n",
        "        \n",
        "        # return only relevant information for each nearby venue\n",
        "        venues_list.append([(\n",
        "            name, \n",
        "            lat, \n",
        "            lng, \n",
        "            v['venue']['name'], \n",
        "            v['venue']['location']['lat'], \n",
        "            v['venue']['location']['lng'],  \n",
        "            v['venue']['categories'][0]['name']) for v in results])\n",
        "\n",
        "    nearby_venues = pd.DataFrame([item for venue_list in venues_list for item in venue_list])\n",
        "    nearby_venues.columns = ['Neighborhood', \n",
        "                  'Neighborhood Latitude', \n",
        "                  'Neighborhood Longitude', \n",
        "                  'Venue', \n",
        "                  'Venue Latitude', \n",
        "                  'Venue Longitude', \n",
        "                  'Venue Category']\n",
        "    \n",
        "    return(nearby_venues)"
      ],
      "execution_count": 0,
      "outputs": []
    },
    {
      "cell_type": "code",
      "metadata": {
        "id": "E9XgJ4W1gaV_",
        "colab_type": "code",
        "colab": {}
      },
      "source": [
        "Toronto_venues = getNearbyVenues(names=TorontoData['Neighborhood'],\n",
        "                                   latitudes=TorontoData['Latitude'],\n",
        "                                   longitudes=TorontoData['Longitude']\n",
        "                                  )\n",
        "\n",
        "print(Toronto_venues.shape)\n",
        "Toronto_venues.head()\n"
      ],
      "execution_count": 0,
      "outputs": []
    },
    {
      "cell_type": "code",
      "metadata": {
        "id": "zsmRfIrKg0mg",
        "colab_type": "code",
        "colab": {}
      },
      "source": [
        "Toronto_venues.groupby('Neighborhood').count()\n",
        "\n",
        "print('There are {} uniques categories.'.format(len(Toronto_venues['Venue Category'].unique())))\n",
        "\n",
        "\n",
        "Indian = Toronto_venues.loc[Toronto_venues[\"Venue Category\"].str.contains(\"Restaurant\")].reset_index()\n",
        "\n",
        "Indian"
      ],
      "execution_count": 0,
      "outputs": []
    },
    {
      "cell_type": "markdown",
      "metadata": {
        "id": "7JOtjMFiuz4c",
        "colab_type": "text"
      },
      "source": [
        "# encoding with 0 and 1 for categories of venues"
      ]
    },
    {
      "cell_type": "code",
      "metadata": {
        "id": "bGdpEL2ghUwP",
        "colab_type": "code",
        "colab": {}
      },
      "source": [
        "\n",
        "# one hot encoding\n",
        "Indian_onehot = pd.get_dummies(Indian[['Venue Category']], prefix=\"\", prefix_sep=\"\")\n",
        "\n",
        "# add neighborhood column back to dataframe\n",
        "Indian_onehot['Neighborhood'] = Indian['Neighborhood'] \n",
        "\n",
        "# move neighborhood column to the first column\n",
        "fixed_columns = [Indian_onehot.columns[-1]] + list(Indian_onehot.columns[:-1])\n",
        "Indian_onehot = Indian_onehot[fixed_columns]\n",
        "\n",
        "Indian_onehot"
      ],
      "execution_count": 0,
      "outputs": []
    },
    {
      "cell_type": "code",
      "metadata": {
        "id": "rGB3qYh_iX57",
        "colab_type": "code",
        "outputId": "e920228f-f884-4166-a2a3-d565f90e881f",
        "colab": {
          "base_uri": "https://localhost:8080/",
          "height": 34
        }
      },
      "source": [
        "Indian_onehot.shape"
      ],
      "execution_count": 0,
      "outputs": [
        {
          "output_type": "execute_result",
          "data": {
            "text/plain": [
              "(417, 49)"
            ]
          },
          "metadata": {
            "tags": []
          },
          "execution_count": 67
        }
      ]
    },
    {
      "cell_type": "code",
      "metadata": {
        "id": "OYufJmWkikSL",
        "colab_type": "code",
        "colab": {}
      },
      "source": [
        "Indian_grouped = Indian_onehot.groupby('Neighborhood').mean().reset_index()\n",
        "Indian_grouped"
      ],
      "execution_count": 0,
      "outputs": []
    },
    {
      "cell_type": "code",
      "metadata": {
        "id": "xxELRRxeiqv0",
        "colab_type": "code",
        "outputId": "50b8ea7f-4b30-4454-d2ee-102920a1f0a6",
        "colab": {
          "base_uri": "https://localhost:8080/",
          "height": 34
        }
      },
      "source": [
        "Indian_grouped.shape"
      ],
      "execution_count": 0,
      "outputs": [
        {
          "output_type": "execute_result",
          "data": {
            "text/plain": [
              "(32, 49)"
            ]
          },
          "metadata": {
            "tags": []
          },
          "execution_count": 69
        }
      ]
    },
    {
      "cell_type": "code",
      "metadata": {
        "id": "u-P0zLaAi02J",
        "colab_type": "code",
        "colab": {}
      },
      "source": [
        "num_top_venues = 5\n",
        "\n",
        "for hood in Indian_grouped['Neighborhood']:\n",
        "    print(\"----\"+hood+\"----\")\n",
        "    temp = Indian_grouped[Indian_grouped['Neighborhood'] == hood].T.reset_index()\n",
        "    temp.columns = ['venue','freq']\n",
        "    temp = temp.iloc[1:]\n",
        "    temp['freq'] = temp['freq'].astype(float)\n",
        "    temp = temp.round({'freq': 2})\n",
        "    print(temp.sort_values('freq', ascending=False).reset_index(drop=True).head(num_top_venues))\n",
        "    print('\\n')"
      ],
      "execution_count": 0,
      "outputs": []
    },
    {
      "cell_type": "code",
      "metadata": {
        "id": "ukUtyBCojAPL",
        "colab_type": "code",
        "colab": {}
      },
      "source": [
        "def return_most_common_venues(row, num_top_venues):\n",
        "    row_categories = row.iloc[1:]\n",
        "    row_categories_sorted = row_categories.sort_values(ascending=False)\n",
        "    \n",
        "    return row_categories_sorted.index.values[0:num_top_venues]"
      ],
      "execution_count": 0,
      "outputs": []
    },
    {
      "cell_type": "code",
      "metadata": {
        "id": "JnSJLD9DjIFX",
        "colab_type": "code",
        "outputId": "5fbc40e9-a69f-4fac-f98e-0b64a551ebce",
        "colab": {
          "base_uri": "https://localhost:8080/",
          "height": 432
        }
      },
      "source": [
        "num_top_venues = 10\n",
        "\n",
        "indicators = ['st', 'nd', 'rd']\n",
        "\n",
        "# create columns according to number of top venues\n",
        "columns = ['Neighborhood']\n",
        "for ind in np.arange(num_top_venues):\n",
        "    try:\n",
        "        columns.append('{}{} Most Common Venue'.format(ind+1, indicators[ind]))\n",
        "    except:\n",
        "        columns.append('{}th Most Common Venue'.format(ind+1))\n",
        "\n",
        "# create a new dataframe\n",
        "neighborhoods_venues_sorted = pd.DataFrame(columns=columns)\n",
        "neighborhoods_venues_sorted['Neighborhood'] = Indian_grouped['Neighborhood']\n",
        "\n",
        "for ind in np.arange(Indian_grouped.shape[0]):\n",
        "    neighborhoods_venues_sorted.iloc[ind, 1:] = return_most_common_venues(Indian_grouped.iloc[ind, :], num_top_venues)\n",
        "\n",
        "neighborhoods_venues_sorted.head()"
      ],
      "execution_count": 0,
      "outputs": [
        {
          "output_type": "execute_result",
          "data": {
            "text/html": [
              "<div>\n",
              "<style scoped>\n",
              "    .dataframe tbody tr th:only-of-type {\n",
              "        vertical-align: middle;\n",
              "    }\n",
              "\n",
              "    .dataframe tbody tr th {\n",
              "        vertical-align: top;\n",
              "    }\n",
              "\n",
              "    .dataframe thead th {\n",
              "        text-align: right;\n",
              "    }\n",
              "</style>\n",
              "<table border=\"1\" class=\"dataframe\">\n",
              "  <thead>\n",
              "    <tr style=\"text-align: right;\">\n",
              "      <th></th>\n",
              "      <th>Neighborhood</th>\n",
              "      <th>1st Most Common Venue</th>\n",
              "      <th>2nd Most Common Venue</th>\n",
              "      <th>3rd Most Common Venue</th>\n",
              "      <th>4th Most Common Venue</th>\n",
              "      <th>5th Most Common Venue</th>\n",
              "      <th>6th Most Common Venue</th>\n",
              "      <th>7th Most Common Venue</th>\n",
              "      <th>8th Most Common Venue</th>\n",
              "      <th>9th Most Common Venue</th>\n",
              "      <th>10th Most Common Venue</th>\n",
              "    </tr>\n",
              "  </thead>\n",
              "  <tbody>\n",
              "    <tr>\n",
              "      <th>0</th>\n",
              "      <td>Adelaide, King, Richmond</td>\n",
              "      <td>Thai Restaurant</td>\n",
              "      <td>American Restaurant</td>\n",
              "      <td>Asian Restaurant</td>\n",
              "      <td>Restaurant</td>\n",
              "      <td>Sushi Restaurant</td>\n",
              "      <td>Italian Restaurant</td>\n",
              "      <td>Indian Restaurant</td>\n",
              "      <td>Mediterranean Restaurant</td>\n",
              "      <td>Japanese Restaurant</td>\n",
              "      <td>Vegetarian / Vegan Restaurant</td>\n",
              "    </tr>\n",
              "    <tr>\n",
              "      <th>1</th>\n",
              "      <td>Berczy Park</td>\n",
              "      <td>Seafood Restaurant</td>\n",
              "      <td>Comfort Food Restaurant</td>\n",
              "      <td>Vegetarian / Vegan Restaurant</td>\n",
              "      <td>French Restaurant</td>\n",
              "      <td>Eastern European Restaurant</td>\n",
              "      <td>Restaurant</td>\n",
              "      <td>Greek Restaurant</td>\n",
              "      <td>Belgian Restaurant</td>\n",
              "      <td>Thai Restaurant</td>\n",
              "      <td>Cajun / Creole Restaurant</td>\n",
              "    </tr>\n",
              "    <tr>\n",
              "      <th>2</th>\n",
              "      <td>Brockton, Exhibition Place, Parkdale Village</td>\n",
              "      <td>Italian Restaurant</td>\n",
              "      <td>Caribbean Restaurant</td>\n",
              "      <td>Falafel Restaurant</td>\n",
              "      <td>Restaurant</td>\n",
              "      <td>Doner Restaurant</td>\n",
              "      <td>Greek Restaurant</td>\n",
              "      <td>Gluten-free Restaurant</td>\n",
              "      <td>French Restaurant</td>\n",
              "      <td>Filipino Restaurant</td>\n",
              "      <td>Fast Food Restaurant</td>\n",
              "    </tr>\n",
              "    <tr>\n",
              "      <th>3</th>\n",
              "      <td>Business Reply Mail Processing Centre 969 Eastern</td>\n",
              "      <td>Fast Food Restaurant</td>\n",
              "      <td>Restaurant</td>\n",
              "      <td>Vietnamese Restaurant</td>\n",
              "      <td>Doner Restaurant</td>\n",
              "      <td>Greek Restaurant</td>\n",
              "      <td>Gluten-free Restaurant</td>\n",
              "      <td>French Restaurant</td>\n",
              "      <td>Filipino Restaurant</td>\n",
              "      <td>Falafel Restaurant</td>\n",
              "      <td>Ethiopian Restaurant</td>\n",
              "    </tr>\n",
              "    <tr>\n",
              "      <th>4</th>\n",
              "      <td>Cabbagetown, St. James Town</td>\n",
              "      <td>Italian Restaurant</td>\n",
              "      <td>Restaurant</td>\n",
              "      <td>Japanese Restaurant</td>\n",
              "      <td>Chinese Restaurant</td>\n",
              "      <td>Caribbean Restaurant</td>\n",
              "      <td>Indian Restaurant</td>\n",
              "      <td>Taiwanese Restaurant</td>\n",
              "      <td>Thai Restaurant</td>\n",
              "      <td>Belgian Restaurant</td>\n",
              "      <td>Eastern European Restaurant</td>\n",
              "    </tr>\n",
              "  </tbody>\n",
              "</table>\n",
              "</div>"
            ],
            "text/plain": [
              "                                        Neighborhood 1st Most Common Venue  \\\n",
              "0                           Adelaide, King, Richmond       Thai Restaurant   \n",
              "1                                        Berczy Park    Seafood Restaurant   \n",
              "2       Brockton, Exhibition Place, Parkdale Village    Italian Restaurant   \n",
              "3  Business Reply Mail Processing Centre 969 Eastern  Fast Food Restaurant   \n",
              "4                        Cabbagetown, St. James Town    Italian Restaurant   \n",
              "\n",
              "     2nd Most Common Venue          3rd Most Common Venue  \\\n",
              "0      American Restaurant               Asian Restaurant   \n",
              "1  Comfort Food Restaurant  Vegetarian / Vegan Restaurant   \n",
              "2     Caribbean Restaurant             Falafel Restaurant   \n",
              "3               Restaurant          Vietnamese Restaurant   \n",
              "4               Restaurant            Japanese Restaurant   \n",
              "\n",
              "  4th Most Common Venue        5th Most Common Venue   6th Most Common Venue  \\\n",
              "0            Restaurant             Sushi Restaurant      Italian Restaurant   \n",
              "1     French Restaurant  Eastern European Restaurant              Restaurant   \n",
              "2            Restaurant             Doner Restaurant        Greek Restaurant   \n",
              "3      Doner Restaurant             Greek Restaurant  Gluten-free Restaurant   \n",
              "4    Chinese Restaurant         Caribbean Restaurant       Indian Restaurant   \n",
              "\n",
              "    7th Most Common Venue     8th Most Common Venue 9th Most Common Venue  \\\n",
              "0       Indian Restaurant  Mediterranean Restaurant   Japanese Restaurant   \n",
              "1        Greek Restaurant        Belgian Restaurant       Thai Restaurant   \n",
              "2  Gluten-free Restaurant         French Restaurant   Filipino Restaurant   \n",
              "3       French Restaurant       Filipino Restaurant    Falafel Restaurant   \n",
              "4    Taiwanese Restaurant           Thai Restaurant    Belgian Restaurant   \n",
              "\n",
              "          10th Most Common Venue  \n",
              "0  Vegetarian / Vegan Restaurant  \n",
              "1      Cajun / Creole Restaurant  \n",
              "2           Fast Food Restaurant  \n",
              "3           Ethiopian Restaurant  \n",
              "4    Eastern European Restaurant  "
            ]
          },
          "metadata": {
            "tags": []
          },
          "execution_count": 90
        }
      ]
    },
    {
      "cell_type": "code",
      "metadata": {
        "id": "F_l7OgskjOZH",
        "colab_type": "code",
        "outputId": "717e0449-640d-4754-e838-38b19ec69428",
        "colab": {
          "base_uri": "https://localhost:8080/",
          "height": 34
        }
      },
      "source": [
        "# set number of clusters\n",
        "kclusters = 5\n",
        "\n",
        "Indian_grouped_clustering = Indian_grouped.drop('Neighborhood', 1)\n",
        "\n",
        "# run k-means clustering\n",
        "kmeans = KMeans(n_clusters=kclusters, random_state=0).fit(Indian_grouped_clustering)\n",
        "\n",
        "# check cluster labels generated for each row in the dataframe\n",
        "kmeans.labels_[0:10] "
      ],
      "execution_count": 0,
      "outputs": [
        {
          "output_type": "execute_result",
          "data": {
            "text/plain": [
              "array([2, 2, 0, 1, 0, 2, 3, 0, 2, 2], dtype=int32)"
            ]
          },
          "metadata": {
            "tags": []
          },
          "execution_count": 91
        }
      ]
    },
    {
      "cell_type": "code",
      "metadata": {
        "id": "UZSrHk8mjewg",
        "colab_type": "code",
        "outputId": "dea59f35-3a60-4a1a-c0c9-688cdf4a19a0",
        "colab": {
          "base_uri": "https://localhost:8080/",
          "height": 206
        }
      },
      "source": [
        "# add clustering labels\n",
        "neighborhoods_venues_sorted.insert(0, 'Cluster Labels', kmeans.labels_)\n",
        "\n",
        "Indian_merged = TorontoData\n",
        "\n",
        "Indian_merged.head()\n"
      ],
      "execution_count": 0,
      "outputs": [
        {
          "output_type": "execute_result",
          "data": {
            "text/html": [
              "<div>\n",
              "<style scoped>\n",
              "    .dataframe tbody tr th:only-of-type {\n",
              "        vertical-align: middle;\n",
              "    }\n",
              "\n",
              "    .dataframe tbody tr th {\n",
              "        vertical-align: top;\n",
              "    }\n",
              "\n",
              "    .dataframe thead th {\n",
              "        text-align: right;\n",
              "    }\n",
              "</style>\n",
              "<table border=\"1\" class=\"dataframe\">\n",
              "  <thead>\n",
              "    <tr style=\"text-align: right;\">\n",
              "      <th></th>\n",
              "      <th>PostalCode</th>\n",
              "      <th>Borough</th>\n",
              "      <th>Neighborhood</th>\n",
              "      <th>Latitude</th>\n",
              "      <th>Longitude</th>\n",
              "    </tr>\n",
              "  </thead>\n",
              "  <tbody>\n",
              "    <tr>\n",
              "      <th>0</th>\n",
              "      <td>M4E</td>\n",
              "      <td>East Toronto</td>\n",
              "      <td>The Beaches</td>\n",
              "      <td>43.676357</td>\n",
              "      <td>-79.293031</td>\n",
              "    </tr>\n",
              "    <tr>\n",
              "      <th>1</th>\n",
              "      <td>M4K</td>\n",
              "      <td>East Toronto</td>\n",
              "      <td>The Danforth West, Riverdale</td>\n",
              "      <td>43.679557</td>\n",
              "      <td>-79.352188</td>\n",
              "    </tr>\n",
              "    <tr>\n",
              "      <th>2</th>\n",
              "      <td>M4L</td>\n",
              "      <td>East Toronto</td>\n",
              "      <td>The Beaches West, India Bazaar</td>\n",
              "      <td>43.668999</td>\n",
              "      <td>-79.315572</td>\n",
              "    </tr>\n",
              "    <tr>\n",
              "      <th>3</th>\n",
              "      <td>M4M</td>\n",
              "      <td>East Toronto</td>\n",
              "      <td>Studio District</td>\n",
              "      <td>43.659526</td>\n",
              "      <td>-79.340923</td>\n",
              "    </tr>\n",
              "    <tr>\n",
              "      <th>4</th>\n",
              "      <td>M4N</td>\n",
              "      <td>Central Toronto</td>\n",
              "      <td>Lawrence Park</td>\n",
              "      <td>43.728020</td>\n",
              "      <td>-79.388790</td>\n",
              "    </tr>\n",
              "  </tbody>\n",
              "</table>\n",
              "</div>"
            ],
            "text/plain": [
              "  PostalCode          Borough                    Neighborhood   Latitude  \\\n",
              "0        M4E     East Toronto                     The Beaches  43.676357   \n",
              "1        M4K     East Toronto    The Danforth West, Riverdale  43.679557   \n",
              "2        M4L     East Toronto  The Beaches West, India Bazaar  43.668999   \n",
              "3        M4M     East Toronto                 Studio District  43.659526   \n",
              "4        M4N  Central Toronto                   Lawrence Park  43.728020   \n",
              "\n",
              "   Longitude  \n",
              "0 -79.293031  \n",
              "1 -79.352188  \n",
              "2 -79.315572  \n",
              "3 -79.340923  \n",
              "4 -79.388790  "
            ]
          },
          "metadata": {
            "tags": []
          },
          "execution_count": 92
        }
      ]
    },
    {
      "cell_type": "code",
      "metadata": {
        "id": "O9YdSr2ojjaa",
        "colab_type": "code",
        "outputId": "0ca957db-1ce1-49b6-fc83-c6850d72a834",
        "colab": {
          "base_uri": "https://localhost:8080/",
          "height": 521
        }
      },
      "source": [
        "\n",
        "# merge toronto_grouped with toronto_data to add latitude/longitude for each neighborhood\n",
        "Indian_merged = Indian_merged.join(neighborhoods_venues_sorted.set_index('Neighborhood'), on='Neighborhood')\n",
        "\n",
        "\n",
        "Indian_merged1 = Indian_merged[np.isfinite(Indian_merged['Cluster Labels'])]\n",
        "\n",
        "Indian_merged1[\"Cluster Labels\"]  = Indian_merged1[\"Cluster Labels\"].astype(int)\n",
        "\n",
        "\n",
        "\n",
        "Indian_merged1.head() # check the last columns!"
      ],
      "execution_count": 0,
      "outputs": [
        {
          "output_type": "stream",
          "text": [
            "/usr/local/lib/python3.6/dist-packages/ipykernel_launcher.py:6: SettingWithCopyWarning: \n",
            "A value is trying to be set on a copy of a slice from a DataFrame.\n",
            "Try using .loc[row_indexer,col_indexer] = value instead\n",
            "\n",
            "See the caveats in the documentation: http://pandas.pydata.org/pandas-docs/stable/indexing.html#indexing-view-versus-copy\n",
            "  \n"
          ],
          "name": "stderr"
        },
        {
          "output_type": "execute_result",
          "data": {
            "text/html": [
              "<div>\n",
              "<style scoped>\n",
              "    .dataframe tbody tr th:only-of-type {\n",
              "        vertical-align: middle;\n",
              "    }\n",
              "\n",
              "    .dataframe tbody tr th {\n",
              "        vertical-align: top;\n",
              "    }\n",
              "\n",
              "    .dataframe thead th {\n",
              "        text-align: right;\n",
              "    }\n",
              "</style>\n",
              "<table border=\"1\" class=\"dataframe\">\n",
              "  <thead>\n",
              "    <tr style=\"text-align: right;\">\n",
              "      <th></th>\n",
              "      <th>PostalCode</th>\n",
              "      <th>Borough</th>\n",
              "      <th>Neighborhood</th>\n",
              "      <th>Latitude</th>\n",
              "      <th>Longitude</th>\n",
              "      <th>Cluster Labels</th>\n",
              "      <th>1st Most Common Venue</th>\n",
              "      <th>2nd Most Common Venue</th>\n",
              "      <th>3rd Most Common Venue</th>\n",
              "      <th>4th Most Common Venue</th>\n",
              "      <th>5th Most Common Venue</th>\n",
              "      <th>6th Most Common Venue</th>\n",
              "      <th>7th Most Common Venue</th>\n",
              "      <th>8th Most Common Venue</th>\n",
              "      <th>9th Most Common Venue</th>\n",
              "      <th>10th Most Common Venue</th>\n",
              "    </tr>\n",
              "  </thead>\n",
              "  <tbody>\n",
              "    <tr>\n",
              "      <th>1</th>\n",
              "      <td>M4K</td>\n",
              "      <td>East Toronto</td>\n",
              "      <td>The Danforth West, Riverdale</td>\n",
              "      <td>43.679557</td>\n",
              "      <td>-79.352188</td>\n",
              "      <td>2</td>\n",
              "      <td>Greek Restaurant</td>\n",
              "      <td>Italian Restaurant</td>\n",
              "      <td>American Restaurant</td>\n",
              "      <td>Caribbean Restaurant</td>\n",
              "      <td>Restaurant</td>\n",
              "      <td>Indian Restaurant</td>\n",
              "      <td>Dumpling Restaurant</td>\n",
              "      <td>Gluten-free Restaurant</td>\n",
              "      <td>French Restaurant</td>\n",
              "      <td>Filipino Restaurant</td>\n",
              "    </tr>\n",
              "    <tr>\n",
              "      <th>2</th>\n",
              "      <td>M4L</td>\n",
              "      <td>East Toronto</td>\n",
              "      <td>The Beaches West, India Bazaar</td>\n",
              "      <td>43.668999</td>\n",
              "      <td>-79.315572</td>\n",
              "      <td>3</td>\n",
              "      <td>Italian Restaurant</td>\n",
              "      <td>Sushi Restaurant</td>\n",
              "      <td>Fast Food Restaurant</td>\n",
              "      <td>Doner Restaurant</td>\n",
              "      <td>Greek Restaurant</td>\n",
              "      <td>Gluten-free Restaurant</td>\n",
              "      <td>French Restaurant</td>\n",
              "      <td>Filipino Restaurant</td>\n",
              "      <td>Falafel Restaurant</td>\n",
              "      <td>Ethiopian Restaurant</td>\n",
              "    </tr>\n",
              "    <tr>\n",
              "      <th>3</th>\n",
              "      <td>M4M</td>\n",
              "      <td>East Toronto</td>\n",
              "      <td>Studio District</td>\n",
              "      <td>43.659526</td>\n",
              "      <td>-79.340923</td>\n",
              "      <td>2</td>\n",
              "      <td>Italian Restaurant</td>\n",
              "      <td>American Restaurant</td>\n",
              "      <td>Middle Eastern Restaurant</td>\n",
              "      <td>Thai Restaurant</td>\n",
              "      <td>Seafood Restaurant</td>\n",
              "      <td>Latin American Restaurant</td>\n",
              "      <td>Chinese Restaurant</td>\n",
              "      <td>Comfort Food Restaurant</td>\n",
              "      <td>Gluten-free Restaurant</td>\n",
              "      <td>French Restaurant</td>\n",
              "    </tr>\n",
              "    <tr>\n",
              "      <th>6</th>\n",
              "      <td>M4R</td>\n",
              "      <td>Central Toronto</td>\n",
              "      <td>North Toronto West</td>\n",
              "      <td>43.715383</td>\n",
              "      <td>-79.405678</td>\n",
              "      <td>3</td>\n",
              "      <td>Fast Food Restaurant</td>\n",
              "      <td>Mexican Restaurant</td>\n",
              "      <td>Chinese Restaurant</td>\n",
              "      <td>Vietnamese Restaurant</td>\n",
              "      <td>Dumpling Restaurant</td>\n",
              "      <td>Greek Restaurant</td>\n",
              "      <td>Gluten-free Restaurant</td>\n",
              "      <td>French Restaurant</td>\n",
              "      <td>Filipino Restaurant</td>\n",
              "      <td>Falafel Restaurant</td>\n",
              "    </tr>\n",
              "    <tr>\n",
              "      <th>7</th>\n",
              "      <td>M4S</td>\n",
              "      <td>Central Toronto</td>\n",
              "      <td>Davisville</td>\n",
              "      <td>43.704324</td>\n",
              "      <td>-79.388790</td>\n",
              "      <td>2</td>\n",
              "      <td>Italian Restaurant</td>\n",
              "      <td>Thai Restaurant</td>\n",
              "      <td>Sushi Restaurant</td>\n",
              "      <td>Restaurant</td>\n",
              "      <td>Indian Restaurant</td>\n",
              "      <td>Japanese Restaurant</td>\n",
              "      <td>Seafood Restaurant</td>\n",
              "      <td>Greek Restaurant</td>\n",
              "      <td>Doner Restaurant</td>\n",
              "      <td>French Restaurant</td>\n",
              "    </tr>\n",
              "  </tbody>\n",
              "</table>\n",
              "</div>"
            ],
            "text/plain": [
              "  PostalCode          Borough                    Neighborhood   Latitude  \\\n",
              "1        M4K     East Toronto    The Danforth West, Riverdale  43.679557   \n",
              "2        M4L     East Toronto  The Beaches West, India Bazaar  43.668999   \n",
              "3        M4M     East Toronto                 Studio District  43.659526   \n",
              "6        M4R  Central Toronto              North Toronto West  43.715383   \n",
              "7        M4S  Central Toronto                      Davisville  43.704324   \n",
              "\n",
              "   Longitude  Cluster Labels 1st Most Common Venue 2nd Most Common Venue  \\\n",
              "1 -79.352188               2      Greek Restaurant    Italian Restaurant   \n",
              "2 -79.315572               3    Italian Restaurant      Sushi Restaurant   \n",
              "3 -79.340923               2    Italian Restaurant   American Restaurant   \n",
              "6 -79.405678               3  Fast Food Restaurant    Mexican Restaurant   \n",
              "7 -79.388790               2    Italian Restaurant       Thai Restaurant   \n",
              "\n",
              "       3rd Most Common Venue  4th Most Common Venue 5th Most Common Venue  \\\n",
              "1        American Restaurant   Caribbean Restaurant            Restaurant   \n",
              "2       Fast Food Restaurant       Doner Restaurant      Greek Restaurant   \n",
              "3  Middle Eastern Restaurant        Thai Restaurant    Seafood Restaurant   \n",
              "6         Chinese Restaurant  Vietnamese Restaurant   Dumpling Restaurant   \n",
              "7           Sushi Restaurant             Restaurant     Indian Restaurant   \n",
              "\n",
              "       6th Most Common Venue   7th Most Common Venue    8th Most Common Venue  \\\n",
              "1          Indian Restaurant     Dumpling Restaurant   Gluten-free Restaurant   \n",
              "2     Gluten-free Restaurant       French Restaurant      Filipino Restaurant   \n",
              "3  Latin American Restaurant      Chinese Restaurant  Comfort Food Restaurant   \n",
              "6           Greek Restaurant  Gluten-free Restaurant        French Restaurant   \n",
              "7        Japanese Restaurant      Seafood Restaurant         Greek Restaurant   \n",
              "\n",
              "    9th Most Common Venue 10th Most Common Venue  \n",
              "1       French Restaurant    Filipino Restaurant  \n",
              "2      Falafel Restaurant   Ethiopian Restaurant  \n",
              "3  Gluten-free Restaurant      French Restaurant  \n",
              "6     Filipino Restaurant     Falafel Restaurant  \n",
              "7        Doner Restaurant      French Restaurant  "
            ]
          },
          "metadata": {
            "tags": []
          },
          "execution_count": 93
        }
      ]
    },
    {
      "cell_type": "code",
      "metadata": {
        "id": "E9o5rhbSlca6",
        "colab_type": "code",
        "outputId": "00d22e1f-5328-49c6-c3c2-53a3487dbf50",
        "colab": {
          "base_uri": "https://localhost:8080/",
          "height": 712
        }
      },
      "source": [
        "# create map\n",
        "map_clusters = folium.Map(location=[latitude, longitude], zoom_start=11)\n",
        "\n",
        "# set color scheme for the clusters\n",
        "x = np.arange(kclusters)\n",
        "ys = [i + x + (i*x)**2 for i in range(kclusters)]\n",
        "colors_array = cm.rainbow(np.linspace(0, 1, len(ys)))\n",
        "rainbow = [colors.rgb2hex(i) for i in colors_array]\n",
        "\n",
        "# add markers to the map\n",
        "markers_colors = []\n",
        "for lat, lon, poi, cluster in zip(Indian_merged1['Latitude'], Indian_merged1['Longitude'], Indian_merged1['Neighborhood'], Indian_merged1['Cluster Labels']):\n",
        "    label = folium.Popup(str(poi) + ' Cluster ' + str(cluster), parse_html=True)\n",
        "    folium.CircleMarker(\n",
        "        [lat, lon],\n",
        "        radius=5,\n",
        "        popup=label,\n",
        "        color=rainbow[cluster-1],\n",
        "        fill=True,\n",
        "        fill_color=rainbow[cluster-1],\n",
        "        fill_opacity=0.7).add_to(map_clusters)\n",
        "       \n",
        "map_clusters"
      ],
      "execution_count": 0,
      "outputs": [
        {
          "output_type": "execute_result",
          "data": {
            "text/html": [
              "<div style=\"width:100%;\"><div style=\"position:relative;width:100%;height:0;padding-bottom:60%;\"><iframe src=\"data:text/html;charset=utf-8;base64,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\" style=\"position:absolute;width:100%;height:100%;left:0;top:0;border:none !important;\" allowfullscreen webkitallowfullscreen mozallowfullscreen></iframe></div></div>"
            ],
            "text/plain": [
              "<folium.folium.Map at 0x7efe392aab70>"
            ]
          },
          "metadata": {
            "tags": []
          },
          "execution_count": 94
        }
      ]
    },
    {
      "cell_type": "code",
      "metadata": {
        "id": "4jN-5iyOsSuB",
        "colab_type": "code",
        "outputId": "0c32ab00-7eb5-4740-e08c-ff92ba61ff4d",
        "colab": {
          "base_uri": "https://localhost:8080/",
          "height": 561
        }
      },
      "source": [
        "# cluster 1\n",
        "\n",
        "Indian_merged1.loc[Indian_merged1['Cluster Labels'] == 0, Indian_merged1.columns[[1] + list(range(5, Indian_merged1.shape[1]))]]"
      ],
      "execution_count": 0,
      "outputs": [
        {
          "output_type": "execute_result",
          "data": {
            "text/html": [
              "<div>\n",
              "<style scoped>\n",
              "    .dataframe tbody tr th:only-of-type {\n",
              "        vertical-align: middle;\n",
              "    }\n",
              "\n",
              "    .dataframe tbody tr th {\n",
              "        vertical-align: top;\n",
              "    }\n",
              "\n",
              "    .dataframe thead th {\n",
              "        text-align: right;\n",
              "    }\n",
              "</style>\n",
              "<table border=\"1\" class=\"dataframe\">\n",
              "  <thead>\n",
              "    <tr style=\"text-align: right;\">\n",
              "      <th></th>\n",
              "      <th>Borough</th>\n",
              "      <th>Cluster Labels</th>\n",
              "      <th>1st Most Common Venue</th>\n",
              "      <th>2nd Most Common Venue</th>\n",
              "      <th>3rd Most Common Venue</th>\n",
              "      <th>4th Most Common Venue</th>\n",
              "      <th>5th Most Common Venue</th>\n",
              "      <th>6th Most Common Venue</th>\n",
              "      <th>7th Most Common Venue</th>\n",
              "      <th>8th Most Common Venue</th>\n",
              "      <th>9th Most Common Venue</th>\n",
              "      <th>10th Most Common Venue</th>\n",
              "    </tr>\n",
              "  </thead>\n",
              "  <tbody>\n",
              "    <tr>\n",
              "      <th>11</th>\n",
              "      <td>Downtown Toronto</td>\n",
              "      <td>0</td>\n",
              "      <td>Italian Restaurant</td>\n",
              "      <td>Restaurant</td>\n",
              "      <td>Japanese Restaurant</td>\n",
              "      <td>Chinese Restaurant</td>\n",
              "      <td>Caribbean Restaurant</td>\n",
              "      <td>Indian Restaurant</td>\n",
              "      <td>Taiwanese Restaurant</td>\n",
              "      <td>Thai Restaurant</td>\n",
              "      <td>Belgian Restaurant</td>\n",
              "      <td>Eastern European Restaurant</td>\n",
              "    </tr>\n",
              "    <tr>\n",
              "      <th>13</th>\n",
              "      <td>Downtown Toronto</td>\n",
              "      <td>0</td>\n",
              "      <td>Mexican Restaurant</td>\n",
              "      <td>Restaurant</td>\n",
              "      <td>Italian Restaurant</td>\n",
              "      <td>French Restaurant</td>\n",
              "      <td>Doner Restaurant</td>\n",
              "      <td>Greek Restaurant</td>\n",
              "      <td>Gluten-free Restaurant</td>\n",
              "      <td>Filipino Restaurant</td>\n",
              "      <td>Fast Food Restaurant</td>\n",
              "      <td>Falafel Restaurant</td>\n",
              "    </tr>\n",
              "    <tr>\n",
              "      <th>19</th>\n",
              "      <td>Downtown Toronto</td>\n",
              "      <td>0</td>\n",
              "      <td>Italian Restaurant</td>\n",
              "      <td>Restaurant</td>\n",
              "      <td>Mexican Restaurant</td>\n",
              "      <td>Indian Restaurant</td>\n",
              "      <td>Vegetarian / Vegan Restaurant</td>\n",
              "      <td>Japanese Restaurant</td>\n",
              "      <td>Sushi Restaurant</td>\n",
              "      <td>Seafood Restaurant</td>\n",
              "      <td>Chinese Restaurant</td>\n",
              "      <td>New American Restaurant</td>\n",
              "    </tr>\n",
              "    <tr>\n",
              "      <th>25</th>\n",
              "      <td>Downtown Toronto</td>\n",
              "      <td>0</td>\n",
              "      <td>Japanese Restaurant</td>\n",
              "      <td>Restaurant</td>\n",
              "      <td>Italian Restaurant</td>\n",
              "      <td>Sushi Restaurant</td>\n",
              "      <td>French Restaurant</td>\n",
              "      <td>Chinese Restaurant</td>\n",
              "      <td>Comfort Food Restaurant</td>\n",
              "      <td>Cajun / Creole Restaurant</td>\n",
              "      <td>Caribbean Restaurant</td>\n",
              "      <td>American Restaurant</td>\n",
              "    </tr>\n",
              "    <tr>\n",
              "      <th>30</th>\n",
              "      <td>Downtown Toronto</td>\n",
              "      <td>0</td>\n",
              "      <td>Italian Restaurant</td>\n",
              "      <td>Restaurant</td>\n",
              "      <td>Doner Restaurant</td>\n",
              "      <td>Greek Restaurant</td>\n",
              "      <td>Gluten-free Restaurant</td>\n",
              "      <td>French Restaurant</td>\n",
              "      <td>Filipino Restaurant</td>\n",
              "      <td>Fast Food Restaurant</td>\n",
              "      <td>Falafel Restaurant</td>\n",
              "      <td>Ethiopian Restaurant</td>\n",
              "    </tr>\n",
              "    <tr>\n",
              "      <th>33</th>\n",
              "      <td>West Toronto</td>\n",
              "      <td>0</td>\n",
              "      <td>Italian Restaurant</td>\n",
              "      <td>Caribbean Restaurant</td>\n",
              "      <td>Falafel Restaurant</td>\n",
              "      <td>Restaurant</td>\n",
              "      <td>Doner Restaurant</td>\n",
              "      <td>Greek Restaurant</td>\n",
              "      <td>Gluten-free Restaurant</td>\n",
              "      <td>French Restaurant</td>\n",
              "      <td>Filipino Restaurant</td>\n",
              "      <td>Fast Food Restaurant</td>\n",
              "    </tr>\n",
              "    <tr>\n",
              "      <th>35</th>\n",
              "      <td>West Toronto</td>\n",
              "      <td>0</td>\n",
              "      <td>Italian Restaurant</td>\n",
              "      <td>Restaurant</td>\n",
              "      <td>Eastern European Restaurant</td>\n",
              "      <td>Cuban Restaurant</td>\n",
              "      <td>Belgian Restaurant</td>\n",
              "      <td>Brazilian Restaurant</td>\n",
              "      <td>Greek Restaurant</td>\n",
              "      <td>Gluten-free Restaurant</td>\n",
              "      <td>French Restaurant</td>\n",
              "      <td>Filipino Restaurant</td>\n",
              "    </tr>\n",
              "    <tr>\n",
              "      <th>36</th>\n",
              "      <td>West Toronto</td>\n",
              "      <td>0</td>\n",
              "      <td>Italian Restaurant</td>\n",
              "      <td>Sushi Restaurant</td>\n",
              "      <td>Vegetarian / Vegan Restaurant</td>\n",
              "      <td>French Restaurant</td>\n",
              "      <td>Latin American Restaurant</td>\n",
              "      <td>Restaurant</td>\n",
              "      <td>Falafel Restaurant</td>\n",
              "      <td>Doner Restaurant</td>\n",
              "      <td>Gluten-free Restaurant</td>\n",
              "      <td>Filipino Restaurant</td>\n",
              "    </tr>\n",
              "  </tbody>\n",
              "</table>\n",
              "</div>"
            ],
            "text/plain": [
              "             Borough  Cluster Labels 1st Most Common Venue  \\\n",
              "11  Downtown Toronto               0    Italian Restaurant   \n",
              "13  Downtown Toronto               0    Mexican Restaurant   \n",
              "19  Downtown Toronto               0    Italian Restaurant   \n",
              "25  Downtown Toronto               0   Japanese Restaurant   \n",
              "30  Downtown Toronto               0    Italian Restaurant   \n",
              "33      West Toronto               0    Italian Restaurant   \n",
              "35      West Toronto               0    Italian Restaurant   \n",
              "36      West Toronto               0    Italian Restaurant   \n",
              "\n",
              "   2nd Most Common Venue          3rd Most Common Venue 4th Most Common Venue  \\\n",
              "11            Restaurant            Japanese Restaurant    Chinese Restaurant   \n",
              "13            Restaurant             Italian Restaurant     French Restaurant   \n",
              "19            Restaurant             Mexican Restaurant     Indian Restaurant   \n",
              "25            Restaurant             Italian Restaurant      Sushi Restaurant   \n",
              "30            Restaurant               Doner Restaurant      Greek Restaurant   \n",
              "33  Caribbean Restaurant             Falafel Restaurant            Restaurant   \n",
              "35            Restaurant    Eastern European Restaurant      Cuban Restaurant   \n",
              "36      Sushi Restaurant  Vegetarian / Vegan Restaurant     French Restaurant   \n",
              "\n",
              "            5th Most Common Venue 6th Most Common Venue  \\\n",
              "11           Caribbean Restaurant     Indian Restaurant   \n",
              "13               Doner Restaurant      Greek Restaurant   \n",
              "19  Vegetarian / Vegan Restaurant   Japanese Restaurant   \n",
              "25              French Restaurant    Chinese Restaurant   \n",
              "30         Gluten-free Restaurant     French Restaurant   \n",
              "33               Doner Restaurant      Greek Restaurant   \n",
              "35             Belgian Restaurant  Brazilian Restaurant   \n",
              "36      Latin American Restaurant            Restaurant   \n",
              "\n",
              "      7th Most Common Venue      8th Most Common Venue  \\\n",
              "11     Taiwanese Restaurant            Thai Restaurant   \n",
              "13   Gluten-free Restaurant        Filipino Restaurant   \n",
              "19         Sushi Restaurant         Seafood Restaurant   \n",
              "25  Comfort Food Restaurant  Cajun / Creole Restaurant   \n",
              "30      Filipino Restaurant       Fast Food Restaurant   \n",
              "33   Gluten-free Restaurant          French Restaurant   \n",
              "35         Greek Restaurant     Gluten-free Restaurant   \n",
              "36       Falafel Restaurant           Doner Restaurant   \n",
              "\n",
              "     9th Most Common Venue       10th Most Common Venue  \n",
              "11      Belgian Restaurant  Eastern European Restaurant  \n",
              "13    Fast Food Restaurant           Falafel Restaurant  \n",
              "19      Chinese Restaurant      New American Restaurant  \n",
              "25    Caribbean Restaurant          American Restaurant  \n",
              "30      Falafel Restaurant         Ethiopian Restaurant  \n",
              "33     Filipino Restaurant         Fast Food Restaurant  \n",
              "35       French Restaurant          Filipino Restaurant  \n",
              "36  Gluten-free Restaurant          Filipino Restaurant  "
            ]
          },
          "metadata": {
            "tags": []
          },
          "execution_count": 95
        }
      ]
    },
    {
      "cell_type": "code",
      "metadata": {
        "id": "IriPDKHTs2qA",
        "colab_type": "code",
        "outputId": "18e485db-d94a-4dd8-ec70-f759ac7560b3",
        "colab": {
          "base_uri": "https://localhost:8080/",
          "height": 182
        }
      },
      "source": [
        "#cluster 2\n",
        "Indian_merged1.loc[Indian_merged1['Cluster Labels'] == 1, Indian_merged1.columns[[1] + list(range(5, Indian_merged1.shape[1]))]]"
      ],
      "execution_count": 0,
      "outputs": [
        {
          "output_type": "execute_result",
          "data": {
            "text/html": [
              "<div>\n",
              "<style scoped>\n",
              "    .dataframe tbody tr th:only-of-type {\n",
              "        vertical-align: middle;\n",
              "    }\n",
              "\n",
              "    .dataframe tbody tr th {\n",
              "        vertical-align: top;\n",
              "    }\n",
              "\n",
              "    .dataframe thead th {\n",
              "        text-align: right;\n",
              "    }\n",
              "</style>\n",
              "<table border=\"1\" class=\"dataframe\">\n",
              "  <thead>\n",
              "    <tr style=\"text-align: right;\">\n",
              "      <th></th>\n",
              "      <th>Borough</th>\n",
              "      <th>Cluster Labels</th>\n",
              "      <th>1st Most Common Venue</th>\n",
              "      <th>2nd Most Common Venue</th>\n",
              "      <th>3rd Most Common Venue</th>\n",
              "      <th>4th Most Common Venue</th>\n",
              "      <th>5th Most Common Venue</th>\n",
              "      <th>6th Most Common Venue</th>\n",
              "      <th>7th Most Common Venue</th>\n",
              "      <th>8th Most Common Venue</th>\n",
              "      <th>9th Most Common Venue</th>\n",
              "      <th>10th Most Common Venue</th>\n",
              "    </tr>\n",
              "  </thead>\n",
              "  <tbody>\n",
              "    <tr>\n",
              "      <th>8</th>\n",
              "      <td>Central Toronto</td>\n",
              "      <td>1</td>\n",
              "      <td>Restaurant</td>\n",
              "      <td>Vietnamese Restaurant</td>\n",
              "      <td>Doner Restaurant</td>\n",
              "      <td>Greek Restaurant</td>\n",
              "      <td>Gluten-free Restaurant</td>\n",
              "      <td>French Restaurant</td>\n",
              "      <td>Filipino Restaurant</td>\n",
              "      <td>Fast Food Restaurant</td>\n",
              "      <td>Falafel Restaurant</td>\n",
              "      <td>Ethiopian Restaurant</td>\n",
              "    </tr>\n",
              "    <tr>\n",
              "      <th>37</th>\n",
              "      <td>East Toronto</td>\n",
              "      <td>1</td>\n",
              "      <td>Fast Food Restaurant</td>\n",
              "      <td>Restaurant</td>\n",
              "      <td>Vietnamese Restaurant</td>\n",
              "      <td>Doner Restaurant</td>\n",
              "      <td>Greek Restaurant</td>\n",
              "      <td>Gluten-free Restaurant</td>\n",
              "      <td>French Restaurant</td>\n",
              "      <td>Filipino Restaurant</td>\n",
              "      <td>Falafel Restaurant</td>\n",
              "      <td>Ethiopian Restaurant</td>\n",
              "    </tr>\n",
              "  </tbody>\n",
              "</table>\n",
              "</div>"
            ],
            "text/plain": [
              "            Borough  Cluster Labels 1st Most Common Venue  \\\n",
              "8   Central Toronto               1            Restaurant   \n",
              "37     East Toronto               1  Fast Food Restaurant   \n",
              "\n",
              "    2nd Most Common Venue  3rd Most Common Venue 4th Most Common Venue  \\\n",
              "8   Vietnamese Restaurant       Doner Restaurant      Greek Restaurant   \n",
              "37             Restaurant  Vietnamese Restaurant      Doner Restaurant   \n",
              "\n",
              "     5th Most Common Venue   6th Most Common Venue 7th Most Common Venue  \\\n",
              "8   Gluten-free Restaurant       French Restaurant   Filipino Restaurant   \n",
              "37        Greek Restaurant  Gluten-free Restaurant     French Restaurant   \n",
              "\n",
              "   8th Most Common Venue 9th Most Common Venue 10th Most Common Venue  \n",
              "8   Fast Food Restaurant    Falafel Restaurant   Ethiopian Restaurant  \n",
              "37   Filipino Restaurant    Falafel Restaurant   Ethiopian Restaurant  "
            ]
          },
          "metadata": {
            "tags": []
          },
          "execution_count": 96
        }
      ]
    },
    {
      "cell_type": "code",
      "metadata": {
        "id": "TrFWBSHysozW",
        "colab_type": "code",
        "outputId": "82843cf1-f5b4-4fa2-de76-c33e654a2e11",
        "colab": {
          "base_uri": "https://localhost:8080/",
          "height": 1000
        }
      },
      "source": [
        "#cluster 3\n",
        "Indian_merged1.loc[Indian_merged1['Cluster Labels'] == 2, Indian_merged1.columns[[1] + list(range(5, Indian_merged1.shape[1]))]]\n"
      ],
      "execution_count": 0,
      "outputs": [
        {
          "output_type": "execute_result",
          "data": {
            "text/html": [
              "<div>\n",
              "<style scoped>\n",
              "    .dataframe tbody tr th:only-of-type {\n",
              "        vertical-align: middle;\n",
              "    }\n",
              "\n",
              "    .dataframe tbody tr th {\n",
              "        vertical-align: top;\n",
              "    }\n",
              "\n",
              "    .dataframe thead th {\n",
              "        text-align: right;\n",
              "    }\n",
              "</style>\n",
              "<table border=\"1\" class=\"dataframe\">\n",
              "  <thead>\n",
              "    <tr style=\"text-align: right;\">\n",
              "      <th></th>\n",
              "      <th>Borough</th>\n",
              "      <th>Cluster Labels</th>\n",
              "      <th>1st Most Common Venue</th>\n",
              "      <th>2nd Most Common Venue</th>\n",
              "      <th>3rd Most Common Venue</th>\n",
              "      <th>4th Most Common Venue</th>\n",
              "      <th>5th Most Common Venue</th>\n",
              "      <th>6th Most Common Venue</th>\n",
              "      <th>7th Most Common Venue</th>\n",
              "      <th>8th Most Common Venue</th>\n",
              "      <th>9th Most Common Venue</th>\n",
              "      <th>10th Most Common Venue</th>\n",
              "    </tr>\n",
              "  </thead>\n",
              "  <tbody>\n",
              "    <tr>\n",
              "      <th>1</th>\n",
              "      <td>East Toronto</td>\n",
              "      <td>2</td>\n",
              "      <td>Greek Restaurant</td>\n",
              "      <td>Italian Restaurant</td>\n",
              "      <td>American Restaurant</td>\n",
              "      <td>Caribbean Restaurant</td>\n",
              "      <td>Restaurant</td>\n",
              "      <td>Indian Restaurant</td>\n",
              "      <td>Dumpling Restaurant</td>\n",
              "      <td>Gluten-free Restaurant</td>\n",
              "      <td>French Restaurant</td>\n",
              "      <td>Filipino Restaurant</td>\n",
              "    </tr>\n",
              "    <tr>\n",
              "      <th>3</th>\n",
              "      <td>East Toronto</td>\n",
              "      <td>2</td>\n",
              "      <td>Italian Restaurant</td>\n",
              "      <td>American Restaurant</td>\n",
              "      <td>Middle Eastern Restaurant</td>\n",
              "      <td>Thai Restaurant</td>\n",
              "      <td>Seafood Restaurant</td>\n",
              "      <td>Latin American Restaurant</td>\n",
              "      <td>Chinese Restaurant</td>\n",
              "      <td>Comfort Food Restaurant</td>\n",
              "      <td>Gluten-free Restaurant</td>\n",
              "      <td>French Restaurant</td>\n",
              "    </tr>\n",
              "    <tr>\n",
              "      <th>7</th>\n",
              "      <td>Central Toronto</td>\n",
              "      <td>2</td>\n",
              "      <td>Italian Restaurant</td>\n",
              "      <td>Thai Restaurant</td>\n",
              "      <td>Sushi Restaurant</td>\n",
              "      <td>Restaurant</td>\n",
              "      <td>Indian Restaurant</td>\n",
              "      <td>Japanese Restaurant</td>\n",
              "      <td>Seafood Restaurant</td>\n",
              "      <td>Greek Restaurant</td>\n",
              "      <td>Doner Restaurant</td>\n",
              "      <td>French Restaurant</td>\n",
              "    </tr>\n",
              "    <tr>\n",
              "      <th>9</th>\n",
              "      <td>Central Toronto</td>\n",
              "      <td>2</td>\n",
              "      <td>Vietnamese Restaurant</td>\n",
              "      <td>American Restaurant</td>\n",
              "      <td>Sushi Restaurant</td>\n",
              "      <td>Restaurant</td>\n",
              "      <td>Doner Restaurant</td>\n",
              "      <td>Greek Restaurant</td>\n",
              "      <td>Gluten-free Restaurant</td>\n",
              "      <td>French Restaurant</td>\n",
              "      <td>Filipino Restaurant</td>\n",
              "      <td>Fast Food Restaurant</td>\n",
              "    </tr>\n",
              "    <tr>\n",
              "      <th>12</th>\n",
              "      <td>Downtown Toronto</td>\n",
              "      <td>2</td>\n",
              "      <td>Japanese Restaurant</td>\n",
              "      <td>Sushi Restaurant</td>\n",
              "      <td>Restaurant</td>\n",
              "      <td>Fast Food Restaurant</td>\n",
              "      <td>Mediterranean Restaurant</td>\n",
              "      <td>Vietnamese Restaurant</td>\n",
              "      <td>Mexican Restaurant</td>\n",
              "      <td>American Restaurant</td>\n",
              "      <td>Caribbean Restaurant</td>\n",
              "      <td>Chinese Restaurant</td>\n",
              "    </tr>\n",
              "    <tr>\n",
              "      <th>15</th>\n",
              "      <td>Downtown Toronto</td>\n",
              "      <td>2</td>\n",
              "      <td>Restaurant</td>\n",
              "      <td>Italian Restaurant</td>\n",
              "      <td>American Restaurant</td>\n",
              "      <td>Japanese Restaurant</td>\n",
              "      <td>Seafood Restaurant</td>\n",
              "      <td>New American Restaurant</td>\n",
              "      <td>Fast Food Restaurant</td>\n",
              "      <td>Indian Restaurant</td>\n",
              "      <td>Vegetarian / Vegan Restaurant</td>\n",
              "      <td>Eastern European Restaurant</td>\n",
              "    </tr>\n",
              "    <tr>\n",
              "      <th>16</th>\n",
              "      <td>Downtown Toronto</td>\n",
              "      <td>2</td>\n",
              "      <td>Seafood Restaurant</td>\n",
              "      <td>Comfort Food Restaurant</td>\n",
              "      <td>Vegetarian / Vegan Restaurant</td>\n",
              "      <td>French Restaurant</td>\n",
              "      <td>Eastern European Restaurant</td>\n",
              "      <td>Restaurant</td>\n",
              "      <td>Greek Restaurant</td>\n",
              "      <td>Belgian Restaurant</td>\n",
              "      <td>Thai Restaurant</td>\n",
              "      <td>Cajun / Creole Restaurant</td>\n",
              "    </tr>\n",
              "    <tr>\n",
              "      <th>17</th>\n",
              "      <td>Downtown Toronto</td>\n",
              "      <td>2</td>\n",
              "      <td>Italian Restaurant</td>\n",
              "      <td>Indian Restaurant</td>\n",
              "      <td>Japanese Restaurant</td>\n",
              "      <td>Sushi Restaurant</td>\n",
              "      <td>Chinese Restaurant</td>\n",
              "      <td>Portuguese Restaurant</td>\n",
              "      <td>Falafel Restaurant</td>\n",
              "      <td>Vegetarian / Vegan Restaurant</td>\n",
              "      <td>Korean Restaurant</td>\n",
              "      <td>Middle Eastern Restaurant</td>\n",
              "    </tr>\n",
              "    <tr>\n",
              "      <th>18</th>\n",
              "      <td>Downtown Toronto</td>\n",
              "      <td>2</td>\n",
              "      <td>Thai Restaurant</td>\n",
              "      <td>American Restaurant</td>\n",
              "      <td>Asian Restaurant</td>\n",
              "      <td>Restaurant</td>\n",
              "      <td>Sushi Restaurant</td>\n",
              "      <td>Italian Restaurant</td>\n",
              "      <td>Indian Restaurant</td>\n",
              "      <td>Mediterranean Restaurant</td>\n",
              "      <td>Japanese Restaurant</td>\n",
              "      <td>Vegetarian / Vegan Restaurant</td>\n",
              "    </tr>\n",
              "    <tr>\n",
              "      <th>20</th>\n",
              "      <td>Downtown Toronto</td>\n",
              "      <td>2</td>\n",
              "      <td>Italian Restaurant</td>\n",
              "      <td>Restaurant</td>\n",
              "      <td>American Restaurant</td>\n",
              "      <td>Japanese Restaurant</td>\n",
              "      <td>Seafood Restaurant</td>\n",
              "      <td>Chinese Restaurant</td>\n",
              "      <td>French Restaurant</td>\n",
              "      <td>Vegetarian / Vegan Restaurant</td>\n",
              "      <td>Fast Food Restaurant</td>\n",
              "      <td>Greek Restaurant</td>\n",
              "    </tr>\n",
              "    <tr>\n",
              "      <th>21</th>\n",
              "      <td>Downtown Toronto</td>\n",
              "      <td>2</td>\n",
              "      <td>American Restaurant</td>\n",
              "      <td>Restaurant</td>\n",
              "      <td>Seafood Restaurant</td>\n",
              "      <td>Italian Restaurant</td>\n",
              "      <td>Thai Restaurant</td>\n",
              "      <td>Vegetarian / Vegan Restaurant</td>\n",
              "      <td>Japanese Restaurant</td>\n",
              "      <td>New American Restaurant</td>\n",
              "      <td>French Restaurant</td>\n",
              "      <td>Fast Food Restaurant</td>\n",
              "    </tr>\n",
              "    <tr>\n",
              "      <th>24</th>\n",
              "      <td>Central Toronto</td>\n",
              "      <td>2</td>\n",
              "      <td>Vegetarian / Vegan Restaurant</td>\n",
              "      <td>American Restaurant</td>\n",
              "      <td>Jewish Restaurant</td>\n",
              "      <td>Indian Restaurant</td>\n",
              "      <td>Eastern European Restaurant</td>\n",
              "      <td>Hotpot Restaurant</td>\n",
              "      <td>Greek Restaurant</td>\n",
              "      <td>Gluten-free Restaurant</td>\n",
              "      <td>French Restaurant</td>\n",
              "      <td>Filipino Restaurant</td>\n",
              "    </tr>\n",
              "    <tr>\n",
              "      <th>28</th>\n",
              "      <td>Downtown Toronto</td>\n",
              "      <td>2</td>\n",
              "      <td>Restaurant</td>\n",
              "      <td>Fast Food Restaurant</td>\n",
              "      <td>Seafood Restaurant</td>\n",
              "      <td>Italian Restaurant</td>\n",
              "      <td>Japanese Restaurant</td>\n",
              "      <td>French Restaurant</td>\n",
              "      <td>Vegetarian / Vegan Restaurant</td>\n",
              "      <td>Eastern European Restaurant</td>\n",
              "      <td>Molecular Gastronomy Restaurant</td>\n",
              "      <td>Comfort Food Restaurant</td>\n",
              "    </tr>\n",
              "    <tr>\n",
              "      <th>29</th>\n",
              "      <td>Downtown Toronto</td>\n",
              "      <td>2</td>\n",
              "      <td>American Restaurant</td>\n",
              "      <td>Asian Restaurant</td>\n",
              "      <td>Seafood Restaurant</td>\n",
              "      <td>Restaurant</td>\n",
              "      <td>Thai Restaurant</td>\n",
              "      <td>Sushi Restaurant</td>\n",
              "      <td>Japanese Restaurant</td>\n",
              "      <td>Italian Restaurant</td>\n",
              "      <td>New American Restaurant</td>\n",
              "      <td>Greek Restaurant</td>\n",
              "    </tr>\n",
              "    <tr>\n",
              "      <th>32</th>\n",
              "      <td>West Toronto</td>\n",
              "      <td>2</td>\n",
              "      <td>Asian Restaurant</td>\n",
              "      <td>Vietnamese Restaurant</td>\n",
              "      <td>French Restaurant</td>\n",
              "      <td>Restaurant</td>\n",
              "      <td>New American Restaurant</td>\n",
              "      <td>Polish Restaurant</td>\n",
              "      <td>Cuban Restaurant</td>\n",
              "      <td>Greek Restaurant</td>\n",
              "      <td>Vegetarian / Vegan Restaurant</td>\n",
              "      <td>Japanese Restaurant</td>\n",
              "    </tr>\n",
              "  </tbody>\n",
              "</table>\n",
              "</div>"
            ],
            "text/plain": [
              "             Borough  Cluster Labels          1st Most Common Venue  \\\n",
              "1       East Toronto               2               Greek Restaurant   \n",
              "3       East Toronto               2             Italian Restaurant   \n",
              "7    Central Toronto               2             Italian Restaurant   \n",
              "9    Central Toronto               2          Vietnamese Restaurant   \n",
              "12  Downtown Toronto               2            Japanese Restaurant   \n",
              "15  Downtown Toronto               2                     Restaurant   \n",
              "16  Downtown Toronto               2             Seafood Restaurant   \n",
              "17  Downtown Toronto               2             Italian Restaurant   \n",
              "18  Downtown Toronto               2                Thai Restaurant   \n",
              "20  Downtown Toronto               2             Italian Restaurant   \n",
              "21  Downtown Toronto               2            American Restaurant   \n",
              "24   Central Toronto               2  Vegetarian / Vegan Restaurant   \n",
              "28  Downtown Toronto               2                     Restaurant   \n",
              "29  Downtown Toronto               2            American Restaurant   \n",
              "32      West Toronto               2               Asian Restaurant   \n",
              "\n",
              "      2nd Most Common Venue          3rd Most Common Venue  \\\n",
              "1        Italian Restaurant            American Restaurant   \n",
              "3       American Restaurant      Middle Eastern Restaurant   \n",
              "7           Thai Restaurant               Sushi Restaurant   \n",
              "9       American Restaurant               Sushi Restaurant   \n",
              "12         Sushi Restaurant                     Restaurant   \n",
              "15       Italian Restaurant            American Restaurant   \n",
              "16  Comfort Food Restaurant  Vegetarian / Vegan Restaurant   \n",
              "17        Indian Restaurant            Japanese Restaurant   \n",
              "18      American Restaurant               Asian Restaurant   \n",
              "20               Restaurant            American Restaurant   \n",
              "21               Restaurant             Seafood Restaurant   \n",
              "24      American Restaurant              Jewish Restaurant   \n",
              "28     Fast Food Restaurant             Seafood Restaurant   \n",
              "29         Asian Restaurant             Seafood Restaurant   \n",
              "32    Vietnamese Restaurant              French Restaurant   \n",
              "\n",
              "   4th Most Common Venue        5th Most Common Venue  \\\n",
              "1   Caribbean Restaurant                   Restaurant   \n",
              "3        Thai Restaurant           Seafood Restaurant   \n",
              "7             Restaurant            Indian Restaurant   \n",
              "9             Restaurant             Doner Restaurant   \n",
              "12  Fast Food Restaurant     Mediterranean Restaurant   \n",
              "15   Japanese Restaurant           Seafood Restaurant   \n",
              "16     French Restaurant  Eastern European Restaurant   \n",
              "17      Sushi Restaurant           Chinese Restaurant   \n",
              "18            Restaurant             Sushi Restaurant   \n",
              "20   Japanese Restaurant           Seafood Restaurant   \n",
              "21    Italian Restaurant              Thai Restaurant   \n",
              "24     Indian Restaurant  Eastern European Restaurant   \n",
              "28    Italian Restaurant          Japanese Restaurant   \n",
              "29            Restaurant              Thai Restaurant   \n",
              "32            Restaurant      New American Restaurant   \n",
              "\n",
              "            6th Most Common Venue          7th Most Common Venue  \\\n",
              "1               Indian Restaurant            Dumpling Restaurant   \n",
              "3       Latin American Restaurant             Chinese Restaurant   \n",
              "7             Japanese Restaurant             Seafood Restaurant   \n",
              "9                Greek Restaurant         Gluten-free Restaurant   \n",
              "12          Vietnamese Restaurant             Mexican Restaurant   \n",
              "15        New American Restaurant           Fast Food Restaurant   \n",
              "16                     Restaurant               Greek Restaurant   \n",
              "17          Portuguese Restaurant             Falafel Restaurant   \n",
              "18             Italian Restaurant              Indian Restaurant   \n",
              "20             Chinese Restaurant              French Restaurant   \n",
              "21  Vegetarian / Vegan Restaurant            Japanese Restaurant   \n",
              "24              Hotpot Restaurant               Greek Restaurant   \n",
              "28              French Restaurant  Vegetarian / Vegan Restaurant   \n",
              "29               Sushi Restaurant            Japanese Restaurant   \n",
              "32              Polish Restaurant               Cuban Restaurant   \n",
              "\n",
              "            8th Most Common Venue            9th Most Common Venue  \\\n",
              "1          Gluten-free Restaurant                French Restaurant   \n",
              "3         Comfort Food Restaurant           Gluten-free Restaurant   \n",
              "7                Greek Restaurant                 Doner Restaurant   \n",
              "9               French Restaurant              Filipino Restaurant   \n",
              "12            American Restaurant             Caribbean Restaurant   \n",
              "15              Indian Restaurant    Vegetarian / Vegan Restaurant   \n",
              "16             Belgian Restaurant                  Thai Restaurant   \n",
              "17  Vegetarian / Vegan Restaurant                Korean Restaurant   \n",
              "18       Mediterranean Restaurant              Japanese Restaurant   \n",
              "20  Vegetarian / Vegan Restaurant             Fast Food Restaurant   \n",
              "21        New American Restaurant                French Restaurant   \n",
              "24         Gluten-free Restaurant                French Restaurant   \n",
              "28    Eastern European Restaurant  Molecular Gastronomy Restaurant   \n",
              "29             Italian Restaurant          New American Restaurant   \n",
              "32               Greek Restaurant    Vegetarian / Vegan Restaurant   \n",
              "\n",
              "           10th Most Common Venue  \n",
              "1             Filipino Restaurant  \n",
              "3               French Restaurant  \n",
              "7               French Restaurant  \n",
              "9            Fast Food Restaurant  \n",
              "12             Chinese Restaurant  \n",
              "15    Eastern European Restaurant  \n",
              "16      Cajun / Creole Restaurant  \n",
              "17      Middle Eastern Restaurant  \n",
              "18  Vegetarian / Vegan Restaurant  \n",
              "20               Greek Restaurant  \n",
              "21           Fast Food Restaurant  \n",
              "24            Filipino Restaurant  \n",
              "28        Comfort Food Restaurant  \n",
              "29               Greek Restaurant  \n",
              "32            Japanese Restaurant  "
            ]
          },
          "metadata": {
            "tags": []
          },
          "execution_count": 97
        }
      ]
    },
    {
      "cell_type": "code",
      "metadata": {
        "id": "XfYVHSdjs8a1",
        "colab_type": "code",
        "outputId": "ba5355a1-15df-4dd5-826f-5a3859c36fb1",
        "colab": {
          "base_uri": "https://localhost:8080/",
          "height": 463
        }
      },
      "source": [
        "#cluster 4\n",
        "Indian_merged1.loc[Indian_merged1['Cluster Labels'] == 3, Indian_merged1.columns[[1] + list(range(5, Indian_merged1.shape[1]))]]"
      ],
      "execution_count": 0,
      "outputs": [
        {
          "output_type": "execute_result",
          "data": {
            "text/html": [
              "<div>\n",
              "<style scoped>\n",
              "    .dataframe tbody tr th:only-of-type {\n",
              "        vertical-align: middle;\n",
              "    }\n",
              "\n",
              "    .dataframe tbody tr th {\n",
              "        vertical-align: top;\n",
              "    }\n",
              "\n",
              "    .dataframe thead th {\n",
              "        text-align: right;\n",
              "    }\n",
              "</style>\n",
              "<table border=\"1\" class=\"dataframe\">\n",
              "  <thead>\n",
              "    <tr style=\"text-align: right;\">\n",
              "      <th></th>\n",
              "      <th>Borough</th>\n",
              "      <th>Cluster Labels</th>\n",
              "      <th>1st Most Common Venue</th>\n",
              "      <th>2nd Most Common Venue</th>\n",
              "      <th>3rd Most Common Venue</th>\n",
              "      <th>4th Most Common Venue</th>\n",
              "      <th>5th Most Common Venue</th>\n",
              "      <th>6th Most Common Venue</th>\n",
              "      <th>7th Most Common Venue</th>\n",
              "      <th>8th Most Common Venue</th>\n",
              "      <th>9th Most Common Venue</th>\n",
              "      <th>10th Most Common Venue</th>\n",
              "    </tr>\n",
              "  </thead>\n",
              "  <tbody>\n",
              "    <tr>\n",
              "      <th>2</th>\n",
              "      <td>East Toronto</td>\n",
              "      <td>3</td>\n",
              "      <td>Italian Restaurant</td>\n",
              "      <td>Sushi Restaurant</td>\n",
              "      <td>Fast Food Restaurant</td>\n",
              "      <td>Doner Restaurant</td>\n",
              "      <td>Greek Restaurant</td>\n",
              "      <td>Gluten-free Restaurant</td>\n",
              "      <td>French Restaurant</td>\n",
              "      <td>Filipino Restaurant</td>\n",
              "      <td>Falafel Restaurant</td>\n",
              "      <td>Ethiopian Restaurant</td>\n",
              "    </tr>\n",
              "    <tr>\n",
              "      <th>6</th>\n",
              "      <td>Central Toronto</td>\n",
              "      <td>3</td>\n",
              "      <td>Fast Food Restaurant</td>\n",
              "      <td>Mexican Restaurant</td>\n",
              "      <td>Chinese Restaurant</td>\n",
              "      <td>Vietnamese Restaurant</td>\n",
              "      <td>Dumpling Restaurant</td>\n",
              "      <td>Greek Restaurant</td>\n",
              "      <td>Gluten-free Restaurant</td>\n",
              "      <td>French Restaurant</td>\n",
              "      <td>Filipino Restaurant</td>\n",
              "      <td>Falafel Restaurant</td>\n",
              "    </tr>\n",
              "    <tr>\n",
              "      <th>14</th>\n",
              "      <td>Downtown Toronto</td>\n",
              "      <td>3</td>\n",
              "      <td>Fast Food Restaurant</td>\n",
              "      <td>Italian Restaurant</td>\n",
              "      <td>Japanese Restaurant</td>\n",
              "      <td>Restaurant</td>\n",
              "      <td>Ramen Restaurant</td>\n",
              "      <td>Middle Eastern Restaurant</td>\n",
              "      <td>Modern European Restaurant</td>\n",
              "      <td>American Restaurant</td>\n",
              "      <td>Chinese Restaurant</td>\n",
              "      <td>Ethiopian Restaurant</td>\n",
              "    </tr>\n",
              "    <tr>\n",
              "      <th>26</th>\n",
              "      <td>Downtown Toronto</td>\n",
              "      <td>3</td>\n",
              "      <td>Vegetarian / Vegan Restaurant</td>\n",
              "      <td>Vietnamese Restaurant</td>\n",
              "      <td>Chinese Restaurant</td>\n",
              "      <td>Mexican Restaurant</td>\n",
              "      <td>Dumpling Restaurant</td>\n",
              "      <td>Caribbean Restaurant</td>\n",
              "      <td>Comfort Food Restaurant</td>\n",
              "      <td>Belgian Restaurant</td>\n",
              "      <td>Doner Restaurant</td>\n",
              "      <td>Filipino Restaurant</td>\n",
              "    </tr>\n",
              "    <tr>\n",
              "      <th>31</th>\n",
              "      <td>West Toronto</td>\n",
              "      <td>3</td>\n",
              "      <td>Fast Food Restaurant</td>\n",
              "      <td>Middle Eastern Restaurant</td>\n",
              "      <td>Portuguese Restaurant</td>\n",
              "      <td>Vietnamese Restaurant</td>\n",
              "      <td>Doner Restaurant</td>\n",
              "      <td>Greek Restaurant</td>\n",
              "      <td>Gluten-free Restaurant</td>\n",
              "      <td>French Restaurant</td>\n",
              "      <td>Filipino Restaurant</td>\n",
              "      <td>Falafel Restaurant</td>\n",
              "    </tr>\n",
              "    <tr>\n",
              "      <th>34</th>\n",
              "      <td>West Toronto</td>\n",
              "      <td>3</td>\n",
              "      <td>Mexican Restaurant</td>\n",
              "      <td>Italian Restaurant</td>\n",
              "      <td>Thai Restaurant</td>\n",
              "      <td>Cajun / Creole Restaurant</td>\n",
              "      <td>Fast Food Restaurant</td>\n",
              "      <td>Dumpling Restaurant</td>\n",
              "      <td>Greek Restaurant</td>\n",
              "      <td>Gluten-free Restaurant</td>\n",
              "      <td>French Restaurant</td>\n",
              "      <td>Filipino Restaurant</td>\n",
              "    </tr>\n",
              "  </tbody>\n",
              "</table>\n",
              "</div>"
            ],
            "text/plain": [
              "             Borough  Cluster Labels          1st Most Common Venue  \\\n",
              "2       East Toronto               3             Italian Restaurant   \n",
              "6    Central Toronto               3           Fast Food Restaurant   \n",
              "14  Downtown Toronto               3           Fast Food Restaurant   \n",
              "26  Downtown Toronto               3  Vegetarian / Vegan Restaurant   \n",
              "31      West Toronto               3           Fast Food Restaurant   \n",
              "34      West Toronto               3             Mexican Restaurant   \n",
              "\n",
              "        2nd Most Common Venue  3rd Most Common Venue  \\\n",
              "2            Sushi Restaurant   Fast Food Restaurant   \n",
              "6          Mexican Restaurant     Chinese Restaurant   \n",
              "14         Italian Restaurant    Japanese Restaurant   \n",
              "26      Vietnamese Restaurant     Chinese Restaurant   \n",
              "31  Middle Eastern Restaurant  Portuguese Restaurant   \n",
              "34         Italian Restaurant        Thai Restaurant   \n",
              "\n",
              "        4th Most Common Venue 5th Most Common Venue  \\\n",
              "2            Doner Restaurant      Greek Restaurant   \n",
              "6       Vietnamese Restaurant   Dumpling Restaurant   \n",
              "14                 Restaurant      Ramen Restaurant   \n",
              "26         Mexican Restaurant   Dumpling Restaurant   \n",
              "31      Vietnamese Restaurant      Doner Restaurant   \n",
              "34  Cajun / Creole Restaurant  Fast Food Restaurant   \n",
              "\n",
              "        6th Most Common Venue       7th Most Common Venue  \\\n",
              "2      Gluten-free Restaurant           French Restaurant   \n",
              "6            Greek Restaurant      Gluten-free Restaurant   \n",
              "14  Middle Eastern Restaurant  Modern European Restaurant   \n",
              "26       Caribbean Restaurant     Comfort Food Restaurant   \n",
              "31           Greek Restaurant      Gluten-free Restaurant   \n",
              "34        Dumpling Restaurant            Greek Restaurant   \n",
              "\n",
              "     8th Most Common Venue 9th Most Common Venue 10th Most Common Venue  \n",
              "2      Filipino Restaurant    Falafel Restaurant   Ethiopian Restaurant  \n",
              "6        French Restaurant   Filipino Restaurant     Falafel Restaurant  \n",
              "14     American Restaurant    Chinese Restaurant   Ethiopian Restaurant  \n",
              "26      Belgian Restaurant      Doner Restaurant    Filipino Restaurant  \n",
              "31       French Restaurant   Filipino Restaurant     Falafel Restaurant  \n",
              "34  Gluten-free Restaurant     French Restaurant    Filipino Restaurant  "
            ]
          },
          "metadata": {
            "tags": []
          },
          "execution_count": 98
        }
      ]
    },
    {
      "cell_type": "code",
      "metadata": {
        "id": "Dq6fjUGks9Uc",
        "colab_type": "code",
        "outputId": "b58c479a-40de-42f0-c8f5-3017443176fd",
        "colab": {
          "base_uri": "https://localhost:8080/",
          "height": 133
        }
      },
      "source": [
        "#cluster 5\n",
        "Indian_merged1.loc[Indian_merged1['Cluster Labels'] == 4, Indian_merged1.columns[[1] + list(range(5, Indian_merged.shape[1]))]]"
      ],
      "execution_count": 0,
      "outputs": [
        {
          "output_type": "execute_result",
          "data": {
            "text/html": [
              "<div>\n",
              "<style scoped>\n",
              "    .dataframe tbody tr th:only-of-type {\n",
              "        vertical-align: middle;\n",
              "    }\n",
              "\n",
              "    .dataframe tbody tr th {\n",
              "        vertical-align: top;\n",
              "    }\n",
              "\n",
              "    .dataframe thead th {\n",
              "        text-align: right;\n",
              "    }\n",
              "</style>\n",
              "<table border=\"1\" class=\"dataframe\">\n",
              "  <thead>\n",
              "    <tr style=\"text-align: right;\">\n",
              "      <th></th>\n",
              "      <th>Borough</th>\n",
              "      <th>Cluster Labels</th>\n",
              "      <th>1st Most Common Venue</th>\n",
              "      <th>2nd Most Common Venue</th>\n",
              "      <th>3rd Most Common Venue</th>\n",
              "      <th>4th Most Common Venue</th>\n",
              "      <th>5th Most Common Venue</th>\n",
              "      <th>6th Most Common Venue</th>\n",
              "      <th>7th Most Common Venue</th>\n",
              "      <th>8th Most Common Venue</th>\n",
              "      <th>9th Most Common Venue</th>\n",
              "      <th>10th Most Common Venue</th>\n",
              "    </tr>\n",
              "  </thead>\n",
              "  <tbody>\n",
              "    <tr>\n",
              "      <th>23</th>\n",
              "      <td>Central Toronto</td>\n",
              "      <td>4</td>\n",
              "      <td>Sushi Restaurant</td>\n",
              "      <td>Vietnamese Restaurant</td>\n",
              "      <td>Doner Restaurant</td>\n",
              "      <td>Greek Restaurant</td>\n",
              "      <td>Gluten-free Restaurant</td>\n",
              "      <td>French Restaurant</td>\n",
              "      <td>Filipino Restaurant</td>\n",
              "      <td>Fast Food Restaurant</td>\n",
              "      <td>Falafel Restaurant</td>\n",
              "      <td>Ethiopian Restaurant</td>\n",
              "    </tr>\n",
              "  </tbody>\n",
              "</table>\n",
              "</div>"
            ],
            "text/plain": [
              "            Borough  Cluster Labels 1st Most Common Venue  \\\n",
              "23  Central Toronto               4      Sushi Restaurant   \n",
              "\n",
              "    2nd Most Common Venue 3rd Most Common Venue 4th Most Common Venue  \\\n",
              "23  Vietnamese Restaurant      Doner Restaurant      Greek Restaurant   \n",
              "\n",
              "     5th Most Common Venue 6th Most Common Venue 7th Most Common Venue  \\\n",
              "23  Gluten-free Restaurant     French Restaurant   Filipino Restaurant   \n",
              "\n",
              "   8th Most Common Venue 9th Most Common Venue 10th Most Common Venue  \n",
              "23  Fast Food Restaurant    Falafel Restaurant   Ethiopian Restaurant  "
            ]
          },
          "metadata": {
            "tags": []
          },
          "execution_count": 100
        }
      ]
    },
    {
      "cell_type": "code",
      "metadata": {
        "id": "ne6csKHztTwr",
        "colab_type": "code",
        "colab": {}
      },
      "source": [
        ""
      ],
      "execution_count": 0,
      "outputs": []
    },
    {
      "cell_type": "markdown",
      "metadata": {
        "id": "y3-a083QyJKL",
        "colab_type": "text"
      },
      "source": [
        "# Observations:-\n",
        "     "
      ]
    },
    {
      "cell_type": "markdown",
      "metadata": {
        "id": "yvLQYuHYDW8_",
        "colab_type": "text"
      },
      "source": [
        "## From above cluster 1 we can conclude that most of the restaurants are Italian.So we can suggest Investors  or entrepreneur to start Restaurants other than italian in downtown toronto or West Toronto ,so that there will be no competition.\n",
        "\n",
        "## From Cluster 2 we can came to know that there are no italian restaurants in central toronto ,east toronto so entrepreneur start italian restaturants here.\n",
        "\n",
        "## and most importantly it is best opportunity for entrepreneur who are willing to open indian restaurants , They can establish their restaurents anywhere in toronto region because there is little or no competition."
      ]
    }
  ]
}